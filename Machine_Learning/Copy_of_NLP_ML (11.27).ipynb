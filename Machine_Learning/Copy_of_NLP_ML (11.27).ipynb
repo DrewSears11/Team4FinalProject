{
  "nbformat": 4,
  "nbformat_minor": 0,
  "metadata": {
    "colab": {
      "provenance": []
    },
    "kernelspec": {
      "name": "python3",
      "display_name": "Python 3"
    },
    "language_info": {
      "name": "python"
    }
  },
  "cells": [
    {
      "cell_type": "code",
      "execution_count": 1,
      "metadata": {
        "id": "yRov9QV02JGK",
        "colab": {
          "base_uri": "https://localhost:8080/"
        },
        "outputId": "030fa0df-24e7-49af-aa28-7e64393aa416"
      },
      "outputs": [
        {
          "output_type": "stream",
          "name": "stdout",
          "text": [
            "\r0% [Working]\r            \rGet:1 http://security.ubuntu.com/ubuntu bionic-security InRelease [88.7 kB]\n",
            "\r0% [Connecting to archive.ubuntu.com (91.189.91.39)] [1 InRelease 8,192 B/88.7 \r                                                                               \rHit:2 https://cloud.r-project.org/bin/linux/ubuntu bionic-cran40/ InRelease\n",
            "\r0% [Waiting for headers] [1 InRelease 46.0 kB/88.7 kB 52%] [Waiting for headers\r                                                                               \rHit:3 http://archive.ubuntu.com/ubuntu bionic InRelease\n",
            "\r0% [Waiting for headers] [1 InRelease 46.0 kB/88.7 kB 52%] [Waiting for headers\r0% [2 InRelease gpgv 3,626 B] [Waiting for headers] [1 InRelease 48.9 kB/88.7 k\r                                                                               \rGet:4 http://archive.ubuntu.com/ubuntu bionic-updates InRelease [88.7 kB]\n",
            "\r0% [2 InRelease gpgv 3,626 B] [4 InRelease 14.2 kB/88.7 kB 16%] [1 InRelease 54\r                                                                               \rIgn:5 https://developer.download.nvidia.com/compute/machine-learning/repos/ubuntu1804/x86_64  InRelease\n",
            "Hit:6 https://developer.download.nvidia.com/compute/cuda/repos/ubuntu1804/x86_64  InRelease\n",
            "Hit:7 https://developer.download.nvidia.com/compute/machine-learning/repos/ubuntu1804/x86_64  Release\n",
            "Hit:8 http://ppa.launchpad.net/c2d4u.team/c2d4u4.0+/ubuntu bionic InRelease\n",
            "Get:9 http://archive.ubuntu.com/ubuntu bionic-backports InRelease [83.3 kB]\n",
            "Hit:10 http://ppa.launchpad.net/cran/libgit2/ubuntu bionic InRelease\n",
            "Hit:11 http://ppa.launchpad.net/deadsnakes/ppa/ubuntu bionic InRelease\n",
            "Hit:12 http://ppa.launchpad.net/graphics-drivers/ppa/ubuntu bionic InRelease\n",
            "Fetched 261 kB in 4s (62.7 kB/s)\n",
            "Reading package lists... Done\n"
          ]
        }
      ],
      "source": [
        "import os\n",
        "# Find the latest version of spark 3.0 from http://www.apache.org/dist/spark/ and enter as the spark version\n",
        "# For example:\n",
        "# spark_version = 'spark-3.3.0'\n",
        "spark_version = 'spark-3.3.1'\n",
        "os.environ['SPARK_VERSION']=spark_version\n",
        "\n",
        "# Install Spark and Java\n",
        "!apt-get update\n",
        "!apt-get install openjdk-11-jdk-headless -qq > /dev/null\n",
        "!wget -q http://www.apache.org/dist/spark/$SPARK_VERSION/$SPARK_VERSION-bin-hadoop3.tgz\n",
        "!tar xf $SPARK_VERSION-bin-hadoop3.tgz\n",
        "!pip install -q findspark\n",
        "\n",
        "# Set Environment Variables\n",
        "import os\n",
        "os.environ[\"JAVA_HOME\"] = \"/usr/lib/jvm/java-11-openjdk-amd64\"\n",
        "os.environ[\"SPARK_HOME\"] = f\"/content/{spark_version}-bin-hadoop3\"\n",
        "\n",
        "# Start a SparkSession\n",
        "import findspark\n",
        "findspark.init()"
      ]
    },
    {
      "cell_type": "code",
      "source": [
        "# Start Spark session\n",
        "from pyspark.sql import SparkSession\n",
        "spark = SparkSession.builder.appName(\"Team4FinalProject\").getOrCreate()"
      ],
      "metadata": {
        "id": "9Nv8jsnG4sUh"
      },
      "execution_count": 2,
      "outputs": []
    },
    {
      "cell_type": "markdown",
      "source": [
        "## Data Pipeline"
      ],
      "metadata": {
        "id": "aGcyLhOP5LgC"
      }
    },
    {
      "cell_type": "code",
      "source": [
        "# Read in data\n",
        "df = spark.read.csv(r\"/content/feedback1.csv\", header=True)\n",
        "\n",
        "df.printSchema()"
      ],
      "metadata": {
        "id": "bnZtF4rt41Kv",
        "colab": {
          "base_uri": "https://localhost:8080/"
        },
        "outputId": "3c6f0e38-dc6c-4dd9-a639-d7054ee1ce66"
      },
      "execution_count": 4,
      "outputs": [
        {
          "output_type": "stream",
          "name": "stdout",
          "text": [
            "root\n",
            " |-- class: string (nullable = true)\n",
            " |-- text: string (nullable = true)\n",
            "\n"
          ]
        }
      ]
    },
    {
      "cell_type": "code",
      "source": [
        "# Import functions\n",
        "from pyspark.ml.feature import Tokenizer, StopWordsRemover, HashingTF, IDF, StringIndexer"
      ],
      "metadata": {
        "id": "5sA9dsXw47bM"
      },
      "execution_count": 5,
      "outputs": []
    },
    {
      "cell_type": "code",
      "source": [
        "from pyspark.sql.functions import length\n",
        "# Create a length column to be used as a future feature\n",
        "data_df = df.withColumn('length', length(df['text']))\n",
        "data_df.show()"
      ],
      "metadata": {
        "id": "Z019sRQi48ec",
        "colab": {
          "base_uri": "https://localhost:8080/"
        },
        "outputId": "0b8680c2-e493-4cb4-9e18-0ff3578ffe83"
      },
      "execution_count": 6,
      "outputs": [
        {
          "output_type": "stream",
          "name": "stdout",
          "text": [
            "+--------------------+--------------------+------+\n",
            "|               class|                text|length|\n",
            "+--------------------+--------------------+------+\n",
            "|            Positive|This shirt is ver...|   192|\n",
            "|            Positive|Took a chance on ...|   296|\n",
            "|            Positive|If this product w...|   132|\n",
            "|fits nicely! i'm 5'4| 130lb and pregna...|    54|\n",
            "|the tie can be fr...|                null|  null|\n",
            "|            Positive|I love this shirt...|   443|\n",
            "|            Positive|Very comfortable,...|    65|\n",
            "|            Positive|\"This top is so c...|   382|\n",
            "|            Negative|Why do designers ...|   500|\n",
            "|            Positive|I have a short to...|   234|\n",
            "|zipper goes almos...|                null|  null|\n",
            "|unlike another re...| i found it went ...|   100|\n",
            "|            Positive|I am so drawn to ...|   113|\n",
            "|            Negative|The zipper broke ...|   217|\n",
            "|            Positive|I usually size up...|   254|\n",
            "|            Positive|I purchased this ...|   500|\n",
            "|            Positive|I tried this on f...|   173|\n",
            "|te blue is a ligh...|      almost neutral|    15|\n",
            "|            Negative|Really cute piece...|   128|\n",
            "|            Positive|I bought this top...|   390|\n",
            "+--------------------+--------------------+------+\n",
            "only showing top 20 rows\n",
            "\n"
          ]
        }
      ]
    },
    {
      "cell_type": "code",
      "source": [
        "data_df = data_df.dropna()\n",
        "data_df.show()"
      ],
      "metadata": {
        "colab": {
          "base_uri": "https://localhost:8080/"
        },
        "id": "k0AOzamp7j2L",
        "outputId": "7c141871-daeb-4d5d-e13f-95d2c9feb1aa"
      },
      "execution_count": 7,
      "outputs": [
        {
          "output_type": "stream",
          "name": "stdout",
          "text": [
            "+--------------------+--------------------+------+\n",
            "|               class|                text|length|\n",
            "+--------------------+--------------------+------+\n",
            "|            Positive|This shirt is ver...|   192|\n",
            "|            Positive|Took a chance on ...|   296|\n",
            "|            Positive|If this product w...|   132|\n",
            "|fits nicely! i'm 5'4| 130lb and pregna...|    54|\n",
            "|            Positive|I love this shirt...|   443|\n",
            "|            Positive|Very comfortable,...|    65|\n",
            "|            Positive|\"This top is so c...|   382|\n",
            "|            Negative|Why do designers ...|   500|\n",
            "|            Positive|I have a short to...|   234|\n",
            "|unlike another re...| i found it went ...|   100|\n",
            "|            Positive|I am so drawn to ...|   113|\n",
            "|            Negative|The zipper broke ...|   217|\n",
            "|            Positive|I usually size up...|   254|\n",
            "|            Positive|I purchased this ...|   500|\n",
            "|            Positive|I tried this on f...|   173|\n",
            "|te blue is a ligh...|      almost neutral|    15|\n",
            "|            Negative|Really cute piece...|   128|\n",
            "|            Positive|I bought this top...|   390|\n",
            "|            Positive|This top is so mu...|   401|\n",
            "|            Positive|This shirt caught...|   499|\n",
            "+--------------------+--------------------+------+\n",
            "only showing top 20 rows\n",
            "\n"
          ]
        }
      ]
    },
    {
      "cell_type": "code",
      "source": [
        "# Create all the features to the data set\n",
        "pos_neg_to_num = StringIndexer(inputCol='class',outputCol='label')\n",
        "tokenizer = Tokenizer(inputCol=\"text\", outputCol=\"token_text\")\n",
        "stopremove = StopWordsRemover(inputCol='token_text',outputCol='stop_tokens')\n",
        "hashingTF = HashingTF(inputCol=\"stop_tokens\", outputCol='hash_token')\n",
        "idf = IDF(inputCol='hash_token', outputCol='idf_token')"
      ],
      "metadata": {
        "id": "iW1hKUoS4_oA"
      },
      "execution_count": 8,
      "outputs": []
    },
    {
      "cell_type": "code",
      "source": [
        "from pyspark.ml.feature import VectorAssembler\n",
        "from pyspark.ml.linalg import Vector\n",
        "# Create feature vectors\n",
        "clean_up = VectorAssembler(inputCols=['idf_token', 'length'], outputCol='features')"
      ],
      "metadata": {
        "id": "Cu1wHSNh5BZZ"
      },
      "execution_count": 9,
      "outputs": []
    },
    {
      "cell_type": "code",
      "source": [
        "# Create and run a data processing Pipeline\n",
        "from pyspark.ml import Pipeline\n",
        "data_prep_pipeline = Pipeline(stages=[pos_neg_to_num, tokenizer, stopremove, hashingTF, idf, clean_up])"
      ],
      "metadata": {
        "id": "PrX05DqS5Dr4"
      },
      "execution_count": 10,
      "outputs": []
    },
    {
      "cell_type": "markdown",
      "source": [
        "## Machine Learning Model"
      ],
      "metadata": {
        "id": "XF13KlAF5GtY"
      }
    },
    {
      "cell_type": "code",
      "source": [
        "# Fit and transform the pipeline\n",
        "cleaner = data_prep_pipeline.fit(data_df)\n",
        "cleaned = cleaner.transform(data_df)"
      ],
      "metadata": {
        "id": "qdVDxuMv5GC2"
      },
      "execution_count": 11,
      "outputs": []
    },
    {
      "cell_type": "code",
      "source": [
        "# Show label and resulting features\n",
        "cleaned.select(['label', 'features']).show()"
      ],
      "metadata": {
        "id": "wMKiVK_cvfIX",
        "colab": {
          "base_uri": "https://localhost:8080/"
        },
        "outputId": "2298fc42-75e2-462d-f451-cc391865f156"
      },
      "execution_count": 12,
      "outputs": [
        {
          "output_type": "stream",
          "name": "stdout",
          "text": [
            "+-----+--------------------+\n",
            "|label|            features|\n",
            "+-----+--------------------+\n",
            "|  0.0|(262145,[20805,42...|\n",
            "|  0.0|(262145,[1578,312...|\n",
            "|  0.0|(262145,[10049,31...|\n",
            "| 11.0|(262145,[25882,47...|\n",
            "|  0.0|(262145,[23087,23...|\n",
            "|  0.0|(262145,[80218,87...|\n",
            "|  0.0|(262145,[6346,181...|\n",
            "|  1.0|(262145,[12917,22...|\n",
            "|  0.0|(262145,[6346,157...|\n",
            "| 52.0|(262145,[78820,87...|\n",
            "|  0.0|(262145,[80393,93...|\n",
            "|  1.0|(262145,[38668,44...|\n",
            "|  0.0|(262145,[11125,18...|\n",
            "|  0.0|(262145,[787,2785...|\n",
            "|  0.0|(262145,[12524,40...|\n",
            "| 39.0|(262145,[128590,1...|\n",
            "|  1.0|(262145,[4631,234...|\n",
            "|  0.0|(262145,[18176,19...|\n",
            "|  0.0|(262145,[3121,634...|\n",
            "|  0.0|(262145,[8538,157...|\n",
            "+-----+--------------------+\n",
            "only showing top 20 rows\n",
            "\n"
          ]
        }
      ]
    },
    {
      "cell_type": "code",
      "source": [
        "# Break data down into a training set and a testing set\n",
        "training, testing = cleaned.randomSplit([0.7, 0.3], 21)"
      ],
      "metadata": {
        "id": "z0HsPX425PgK"
      },
      "execution_count": 13,
      "outputs": []
    },
    {
      "cell_type": "code",
      "source": [
        "from pyspark.ml.classification import NaiveBayes\n",
        "# Create a Naive Bayes model and fit training data\n",
        "\n",
        "nb = NaiveBayes()\n",
        "predictor = nb.fit(training)"
      ],
      "metadata": {
        "id": "5gwQYpFn5Slq"
      },
      "execution_count": 14,
      "outputs": []
    },
    {
      "cell_type": "code",
      "source": [
        "# Transform the model with the testing data\n",
        "test_results = predictor.transform(testing)\n",
        "test_results.show(5)"
      ],
      "metadata": {
        "id": "4Aruoq5hvs3P",
        "colab": {
          "base_uri": "https://localhost:8080/"
        },
        "outputId": "138c7b98-46ed-4c6c-ab9b-397955f63359"
      },
      "execution_count": 15,
      "outputs": [
        {
          "output_type": "stream",
          "name": "stdout",
          "text": [
            "+--------+--------------------+------+-----+--------------------+--------------------+--------------------+--------------------+--------------------+--------------------+--------------------+----------+\n",
            "|   class|                text|length|label|          token_text|         stop_tokens|          hash_token|           idf_token|            features|       rawPrediction|         probability|prediction|\n",
            "+--------+--------------------+------+-----+--------------------+--------------------+--------------------+--------------------+--------------------+--------------------+--------------------+----------+\n",
            "|Negative|\"I bought two, on...|   282|  1.0|[\"i, bought, two,...|[\"i, bought, two,...|(262144,[7777,828...|(262144,[7777,828...|(262145,[7777,828...|[-1697.2299095550...|[1.0,5.2179376037...|       0.0|\n",
            "|Negative|\"I usually wear a...|   242|  1.0|[\"i, usually, wea...|[\"i, usually, wea...|(262144,[19096,25...|(262144,[19096,25...|(262145,[19096,25...|[-1334.7501391923...|[1.0,2.8853390455...|       0.0|\n",
            "|Negative|\"The shirt is abs...|   141|  1.0|[\"the, shirt, is,...|[\"the, shirt, abs...|(262144,[1303,238...|(262144,[1303,238...|(262145,[1303,238...|[-810.18546441645...|[1.0,5.5452687104...|       0.0|\n",
            "|Negative|...the print is s...|   333|  1.0|[...the, print, i...|[...the, print, s...|(262144,[7777,218...|(262144,[7777,218...|(262145,[7777,218...|[-1877.1039769167...|[1.0,9.0441524121...|       0.0|\n",
            "|Negative|Beautiful victori...|    68|  1.0|[beautiful, victo...|[beautiful, victo...|(262144,[21316,30...|(262144,[21316,30...|(262145,[21316,30...|[-402.80005246049...|[1.0,6.2283132071...|       0.0|\n",
            "+--------+--------------------+------+-----+--------------------+--------------------+--------------------+--------------------+--------------------+--------------------+--------------------+----------+\n",
            "only showing top 5 rows\n",
            "\n"
          ]
        }
      ]
    },
    {
      "cell_type": "code",
      "source": [
        "from pyspark.ml.evaluation import BinaryClassificationEvaluator\n",
        "\n",
        "acc_eval = BinaryClassificationEvaluator(labelCol='label', rawPredictionCol='prediction')\n",
        "acc = acc_eval.evaluate(test_results)\n",
        "print(\"Accuracy of model at predicting reviews was: %f\" % acc)"
      ],
      "metadata": {
        "id": "6g7QvQHs5YCt",
        "colab": {
          "base_uri": "https://localhost:8080/"
        },
        "outputId": "1b48b58a-dfa3-428f-d965-ecf156a07162"
      },
      "execution_count": 38,
      "outputs": [
        {
          "output_type": "stream",
          "name": "stdout",
          "text": [
            "Accuracy of model at predicting reviews was: 0.500000\n"
          ]
        }
      ]
    }
  ]
}