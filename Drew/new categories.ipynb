{
 "cells": [
  {
   "cell_type": "code",
   "execution_count": null,
   "metadata": {},
   "outputs": [],
   "source": []
  }
 ],
 "metadata": {
  "kernelspec": {
   "display_name": "Python 3.7.13 ('PythonData')",
   "language": "python",
   "name": "python3"
  },
  "language_info": {
   "name": "python",
   "version": "3.7.13"
  },
  "orig_nbformat": 4,
  "vscode": {
   "interpreter": {
    "hash": "474f5975e24c9dd6cdcfa3f0d7a8870e415fa066c4d0ab3608d12125d799cdf7"
   }
  }
 },
 "nbformat": 4,
 "nbformat_minor": 2
}
