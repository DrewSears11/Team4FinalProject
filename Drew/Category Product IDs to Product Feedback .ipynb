{
 "cells": [
  {
   "cell_type": "markdown",
   "id": "6f9614f5",
   "metadata": {},
   "source": [
    "## Import Dependencies"
   ]
  },
  {
   "cell_type": "code",
   "execution_count": 194,
   "id": "0b083be6",
   "metadata": {},
   "outputs": [],
   "source": [
    "import pandas as pd\n",
    "import numpy as np\n",
    "import requests\n",
    "import csv\n",
    "import json"
   ]
  },
  {
   "cell_type": "markdown",
   "id": "4262df18",
   "metadata": {},
   "source": [
    "## Product IDs For Women's Shoes"
   ]
  },
  {
   "cell_type": "code",
   "execution_count": 195,
   "id": "3077c123",
   "metadata": {
    "scrolled": false
   },
   "outputs": [
    {
     "data": {
      "text/plain": [
       "{'code': 200,\n",
       " 'cost': 13,\n",
       " 'data': {'abVersion': '1',\n",
       "  'crawler': False,\n",
       "  'searchResult': {'mods': {'searchTips': {'content': {'tipsType': 'request_invalid',\n",
       "      'tipsMessage': 'Sorry, your search did not match any products. Please try again.'}}},\n",
       "   '_cost': 0.057287,\n",
       "   'pvid': '7725add0-7a2d-4743-a8a2-b65975a628aa',\n",
       "   'pageInfo': {'totalResults': 0,\n",
       "    'success': False,\n",
       "    'finished': True,\n",
       "    'searchResultType': 'zero_result'},\n",
       "   '_host': 'hippo.033001229125.us44',\n",
       "   'scm': '1007.28539.297875.0',\n",
       "   'version': 1.0,\n",
       "   'srpResult': [1],\n",
       "   'tpp_trace': '210318cf16686338187883594eaf72'},\n",
       "  'trafficChannel': 'main'},\n",
       " 'success': True}"
      ]
     },
     "execution_count": 195,
     "metadata": {},
     "output_type": "execute_result"
    }
   ],
   "source": [
    "url = \"https://ali-express1.p.rapidapi.com/productsByCategoryV2/100001606\"\n",
    "\n",
    "querystring = {\"sort_type\":\"default\",\"page\":\"1\",\"page_size\":\"1000\",\"sort_order\":\"default\"}\n",
    "\n",
    "headers = {\n",
    "\t\"X-RapidAPI-Key\": \"f112b58c1fmshcc6465ec5c6e3b1p1e5ca3jsnc80fbff27442\",\n",
    "\t\"X-RapidAPI-Host\": \"ali-express1.p.rapidapi.com\"\n",
    "}\n",
    "\n",
    "response = requests.request(\"GET\", url, headers=headers, params=querystring)\n",
    "\n",
    "json = response.json()\n",
    "json"
   ]
  },
  {
   "cell_type": "code",
   "execution_count": 196,
   "id": "bc535929",
   "metadata": {},
   "outputs": [],
   "source": [
    "## We want 'productID', 'title':'displayTitle', 'prices':'salePrice':'formattedPrice', 'evaluation':'starRating'"
   ]
  },
  {
   "cell_type": "code",
   "execution_count": 197,
   "id": "45d1bfdd",
   "metadata": {},
   "outputs": [
    {
     "data": {
      "text/html": [
       "<div>\n",
       "<style scoped>\n",
       "    .dataframe tbody tr th:only-of-type {\n",
       "        vertical-align: middle;\n",
       "    }\n",
       "\n",
       "    .dataframe tbody tr th {\n",
       "        vertical-align: top;\n",
       "    }\n",
       "\n",
       "    .dataframe thead th {\n",
       "        text-align: right;\n",
       "    }\n",
       "</style>\n",
       "<table border=\"1\" class=\"dataframe\">\n",
       "  <thead>\n",
       "    <tr style=\"text-align: right;\">\n",
       "      <th></th>\n",
       "      <th>code</th>\n",
       "      <th>cost</th>\n",
       "      <th>data</th>\n",
       "      <th>success</th>\n",
       "    </tr>\n",
       "  </thead>\n",
       "  <tbody>\n",
       "    <tr>\n",
       "      <th>abVersion</th>\n",
       "      <td>200</td>\n",
       "      <td>13</td>\n",
       "      <td>1</td>\n",
       "      <td>True</td>\n",
       "    </tr>\n",
       "    <tr>\n",
       "      <th>crawler</th>\n",
       "      <td>200</td>\n",
       "      <td>13</td>\n",
       "      <td>False</td>\n",
       "      <td>True</td>\n",
       "    </tr>\n",
       "    <tr>\n",
       "      <th>searchResult</th>\n",
       "      <td>200</td>\n",
       "      <td>13</td>\n",
       "      <td>{'mods': {'searchTips': {'content': {'tipsType...</td>\n",
       "      <td>True</td>\n",
       "    </tr>\n",
       "    <tr>\n",
       "      <th>trafficChannel</th>\n",
       "      <td>200</td>\n",
       "      <td>13</td>\n",
       "      <td>main</td>\n",
       "      <td>True</td>\n",
       "    </tr>\n",
       "  </tbody>\n",
       "</table>\n",
       "</div>"
      ],
      "text/plain": [
       "                code  cost                                               data  \\\n",
       "abVersion        200    13                                                  1   \n",
       "crawler          200    13                                              False   \n",
       "searchResult     200    13  {'mods': {'searchTips': {'content': {'tipsType...   \n",
       "trafficChannel   200    13                                               main   \n",
       "\n",
       "                success  \n",
       "abVersion          True  \n",
       "crawler            True  \n",
       "searchResult       True  \n",
       "trafficChannel     True  "
      ]
     },
     "execution_count": 197,
     "metadata": {},
     "output_type": "execute_result"
    }
   ],
   "source": [
    "wshoes_df = pd.DataFrame(json)\n",
    "\n",
    "wshoes_df"
   ]
  },
  {
   "cell_type": "code",
   "execution_count": 198,
   "id": "4eff9229",
   "metadata": {},
   "outputs": [
    {
     "data": {
      "text/html": [
       "<div>\n",
       "<style scoped>\n",
       "    .dataframe tbody tr th:only-of-type {\n",
       "        vertical-align: middle;\n",
       "    }\n",
       "\n",
       "    .dataframe tbody tr th {\n",
       "        vertical-align: top;\n",
       "    }\n",
       "\n",
       "    .dataframe thead th {\n",
       "        text-align: right;\n",
       "    }\n",
       "</style>\n",
       "<table border=\"1\" class=\"dataframe\">\n",
       "  <thead>\n",
       "    <tr style=\"text-align: right;\">\n",
       "      <th></th>\n",
       "      <th>code</th>\n",
       "      <th>cost</th>\n",
       "      <th>success</th>\n",
       "      <th>data.abVersion</th>\n",
       "      <th>data.crawler</th>\n",
       "      <th>data.searchResult.mods.searchRapidFilters.content</th>\n",
       "      <th>data.searchResult.mods.searchRefineFilters.content</th>\n",
       "      <th>data.searchResult.mods.sortBar.tItemType</th>\n",
       "      <th>data.searchResult.mods.sortBar.content</th>\n",
       "      <th>data.searchResult.mods.itemList.content</th>\n",
       "      <th>...</th>\n",
       "      <th>data.searchResult.modsStyle.image.small_gap</th>\n",
       "      <th>data.searchResult.modsStyle.prices.decimal_point</th>\n",
       "      <th>data.searchResult.modsStyle.prices.comma_style</th>\n",
       "      <th>data.searchResult.modsStyle.prices.symbol_position</th>\n",
       "      <th>data.searchResult._host</th>\n",
       "      <th>data.searchResult.scm</th>\n",
       "      <th>data.searchResult.version</th>\n",
       "      <th>data.searchResult.srpResult</th>\n",
       "      <th>data.searchResult.tpp_trace</th>\n",
       "      <th>data.trafficChannel</th>\n",
       "    </tr>\n",
       "  </thead>\n",
       "  <tbody>\n",
       "    <tr>\n",
       "      <th>0</th>\n",
       "      <td>200</td>\n",
       "      <td>710</td>\n",
       "      <td>True</td>\n",
       "      <td>1</td>\n",
       "      <td>False</td>\n",
       "      <td>[{'paramType': 'List', 'rapidTiling': True, 'i...</td>\n",
       "      <td>[{'paramType': 'String', 'rapidTiling': False,...</td>\n",
       "      <td>nt_mainsearch_sortbar</td>\n",
       "      <td>[{'sortOrders': [{'selected': True, 'order': '...</td>\n",
       "      <td>[{'image': {'imgUrl': 'https://ae04.alicdn.com...</td>\n",
       "      <td>...</td>\n",
       "      <td>2</td>\n",
       "      <td>.</td>\n",
       "      <td>,</td>\n",
       "      <td>left</td>\n",
       "      <td>hippo.033001228173.us44</td>\n",
       "      <td>1007.28539.297875.0</td>\n",
       "      <td>1.0</td>\n",
       "      <td>[20]</td>\n",
       "      <td>2103255b16686276040591903ea479</td>\n",
       "      <td>main</td>\n",
       "    </tr>\n",
       "  </tbody>\n",
       "</table>\n",
       "<p>1 rows × 72 columns</p>\n",
       "</div>"
      ],
      "text/plain": [
       "   code  cost  success data.abVersion  data.crawler  \\\n",
       "0   200   710     True              1         False   \n",
       "\n",
       "   data.searchResult.mods.searchRapidFilters.content  \\\n",
       "0  [{'paramType': 'List', 'rapidTiling': True, 'i...   \n",
       "\n",
       "  data.searchResult.mods.searchRefineFilters.content  \\\n",
       "0  [{'paramType': 'String', 'rapidTiling': False,...   \n",
       "\n",
       "  data.searchResult.mods.sortBar.tItemType  \\\n",
       "0                    nt_mainsearch_sortbar   \n",
       "\n",
       "              data.searchResult.mods.sortBar.content  \\\n",
       "0  [{'sortOrders': [{'selected': True, 'order': '...   \n",
       "\n",
       "             data.searchResult.mods.itemList.content  ...  \\\n",
       "0  [{'image': {'imgUrl': 'https://ae04.alicdn.com...  ...   \n",
       "\n",
       "   data.searchResult.modsStyle.image.small_gap  \\\n",
       "0                                            2   \n",
       "\n",
       "  data.searchResult.modsStyle.prices.decimal_point  \\\n",
       "0                                                .   \n",
       "\n",
       "  data.searchResult.modsStyle.prices.comma_style  \\\n",
       "0                                              ,   \n",
       "\n",
       "   data.searchResult.modsStyle.prices.symbol_position  \\\n",
       "0                                               left    \n",
       "\n",
       "   data.searchResult._host data.searchResult.scm  data.searchResult.version  \\\n",
       "0  hippo.033001228173.us44   1007.28539.297875.0                        1.0   \n",
       "\n",
       "   data.searchResult.srpResult     data.searchResult.tpp_trace  \\\n",
       "0                         [20]  2103255b16686276040591903ea479   \n",
       "\n",
       "  data.trafficChannel  \n",
       "0                main  \n",
       "\n",
       "[1 rows x 72 columns]"
      ]
     },
     "execution_count": 198,
     "metadata": {},
     "output_type": "execute_result"
    }
   ],
   "source": [
    "# create dataframe\n",
    "wshoes_df = pd.json_normalize(data)\n",
    "wshoes_df"
   ]
  },
  {
   "cell_type": "code",
   "execution_count": 199,
   "id": "cf4f7b46",
   "metadata": {},
   "outputs": [
    {
     "data": {
      "text/html": [
       "<div>\n",
       "<style scoped>\n",
       "    .dataframe tbody tr th:only-of-type {\n",
       "        vertical-align: middle;\n",
       "    }\n",
       "\n",
       "    .dataframe tbody tr th {\n",
       "        vertical-align: top;\n",
       "    }\n",
       "\n",
       "    .dataframe thead th {\n",
       "        text-align: right;\n",
       "    }\n",
       "</style>\n",
       "<table border=\"1\" class=\"dataframe\">\n",
       "  <thead>\n",
       "    <tr style=\"text-align: right;\">\n",
       "      <th></th>\n",
       "      <th>code</th>\n",
       "      <th>cost</th>\n",
       "      <th>data</th>\n",
       "      <th>success</th>\n",
       "    </tr>\n",
       "  </thead>\n",
       "  <tbody>\n",
       "    <tr>\n",
       "      <th>allImageList</th>\n",
       "      <td>200</td>\n",
       "      <td>36</td>\n",
       "      <td>[https://ae01.alicdn.com/kf/A4c2c5bcbeda54c109...</td>\n",
       "      <td>True</td>\n",
       "    </tr>\n",
       "    <tr>\n",
       "      <th>currentPage</th>\n",
       "      <td>200</td>\n",
       "      <td>36</td>\n",
       "      <td>1</td>\n",
       "      <td>True</td>\n",
       "    </tr>\n",
       "    <tr>\n",
       "      <th>evaViewList</th>\n",
       "      <td>200</td>\n",
       "      <td>36</td>\n",
       "      <td>[{'anonymous': False, 'buyerAddFbDays': 0, 'bu...</td>\n",
       "      <td>True</td>\n",
       "    </tr>\n",
       "    <tr>\n",
       "      <th>filterInfo</th>\n",
       "      <td>200</td>\n",
       "      <td>36</td>\n",
       "      <td>{'currentFilter': 'all', 'filterStatistic': [{...</td>\n",
       "      <td>True</td>\n",
       "    </tr>\n",
       "    <tr>\n",
       "      <th>pageSize</th>\n",
       "      <td>200</td>\n",
       "      <td>36</td>\n",
       "      <td>20</td>\n",
       "      <td>True</td>\n",
       "    </tr>\n",
       "    <tr>\n",
       "      <th>productEvaluationStatistic</th>\n",
       "      <td>200</td>\n",
       "      <td>36</td>\n",
       "      <td>{'evarageStar': 4.2, 'evarageStarRage': 84.9, ...</td>\n",
       "      <td>True</td>\n",
       "    </tr>\n",
       "    <tr>\n",
       "      <th>totalNum</th>\n",
       "      <td>200</td>\n",
       "      <td>36</td>\n",
       "      <td>141</td>\n",
       "      <td>True</td>\n",
       "    </tr>\n",
       "    <tr>\n",
       "      <th>totalPage</th>\n",
       "      <td>200</td>\n",
       "      <td>36</td>\n",
       "      <td>8</td>\n",
       "      <td>True</td>\n",
       "    </tr>\n",
       "    <tr>\n",
       "      <th>version</th>\n",
       "      <td>200</td>\n",
       "      <td>36</td>\n",
       "      <td>0.0.0</td>\n",
       "      <td>True</td>\n",
       "    </tr>\n",
       "  </tbody>\n",
       "</table>\n",
       "</div>"
      ],
      "text/plain": [
       "                            code  cost  \\\n",
       "allImageList                 200    36   \n",
       "currentPage                  200    36   \n",
       "evaViewList                  200    36   \n",
       "filterInfo                   200    36   \n",
       "pageSize                     200    36   \n",
       "productEvaluationStatistic   200    36   \n",
       "totalNum                     200    36   \n",
       "totalPage                    200    36   \n",
       "version                      200    36   \n",
       "\n",
       "                                                                         data  \\\n",
       "allImageList                [https://ae01.alicdn.com/kf/A4c2c5bcbeda54c109...   \n",
       "currentPage                                                                 1   \n",
       "evaViewList                 [{'anonymous': False, 'buyerAddFbDays': 0, 'bu...   \n",
       "filterInfo                  {'currentFilter': 'all', 'filterStatistic': [{...   \n",
       "pageSize                                                                   20   \n",
       "productEvaluationStatistic  {'evarageStar': 4.2, 'evarageStarRage': 84.9, ...   \n",
       "totalNum                                                                  141   \n",
       "totalPage                                                                   8   \n",
       "version                                                                 0.0.0   \n",
       "\n",
       "                            success  \n",
       "allImageList                   True  \n",
       "currentPage                    True  \n",
       "evaViewList                    True  \n",
       "filterInfo                     True  \n",
       "pageSize                       True  \n",
       "productEvaluationStatistic     True  \n",
       "totalNum                       True  \n",
       "totalPage                      True  \n",
       "version                        True  "
      ]
     },
     "execution_count": 199,
     "metadata": {},
     "output_type": "execute_result"
    }
   ],
   "source": [
    "wshoes_df = wshoes_df[['data.searchResult.mods.itemList.content']]\n",
    "df"
   ]
  },
  {
   "cell_type": "code",
   "execution_count": 200,
   "id": "9a14c4c4",
   "metadata": {},
   "outputs": [
    {
     "name": "stdout",
     "output_type": "stream",
     "text": [
      "['3256803290146743', '3256804146039143', '3256804644198485', '3256803305179821', '3256803305197705', '3256803290148690', '3256804417681054', '3256804655013583', '3256804568740738', '3256803313822268', '3256802759707769', '3256804450894638', '3256804606583693', '3256804614754103', '3256804617472927', '3256804139482283', '3256803147612333', '3256804531066038', '3256804564507961', '3256804546795854']\n"
     ]
    }
   ],
   "source": [
    "wshoes_productId = ((wshoes_df[\"data.searchResult.mods.itemList.content\"].values[0][0]['productId']))\n",
    "\n",
    "\n",
    "wshoes_productId_list = []\n",
    "\n",
    "\n",
    "for i in range (20):\n",
    "    each_value = ((wshoes_df[\"data.searchResult.mods.itemList.content\"].values[0][i]['productId']))\n",
    "    \n",
    "    wshoes_productId_list.append(each_value)\n",
    "\n",
    "print(wshoes_productId_list)\n"
   ]
  },
  {
   "cell_type": "code",
   "execution_count": 201,
   "id": "d91bd791",
   "metadata": {},
   "outputs": [
    {
     "name": "stdout",
     "output_type": "stream",
     "text": [
      "['2021 Wool wool slippers autumn and winter women comfortable home with warm indoor quiet soft bottom Hao-008-APEX', 'Best Selling Smiley Face Ladies Warm Furry Home House Cute Bedroom Pantoufle Women  Men Slippers', '2022 autumn winter new short ladies lightweight round neck knit jacket outdoor leisure sports fashion high-end delicate', \"2021 Spring new leisure one-word solid color beach slippers indoor drag fashion women's shoes SU02\", 'summer new style sandals and slippers, soft bottom indoor yanJc15 tai  3025', '2022 new Casual shoes for women a foot of flat shoes casual shoes KIDS01 Hao-004-kids', '2022 New Women Indoor Slippers Warm Plush Home Slipper Anti Slip Autumn Winter Shoes House Floor Soft Slient Slides for Bedroom', 'Women Winter Luxury Fashion Cotton Bubble Slides Flat Platform Round Toe Warm Bubble Slippers Wholesale Bulk Women Shoes Big', 'Bad Bunny Un Verano Sin Ti Autumn Winter Fulffy Fur Slippers Plush Fleece Flat Love Heart Slippers Indoor Slippers Couple Shoes', 'NEW Winter Keep Warm Women Fur Furry Slippers for Home Fluffy Soft Indoor Slides Non Slip Indoor House Shoes', '2022 Summer Women Fashion Personality Indoor Home bathroom Massage Bubble Slide Men Lady Outdoor Beach Thick Sole Bubble Slipper', 'YISHEN Unisex Summer Slides For Women Indoor Slippers Bubble Slides Massage Litchi Sandals Fashion Designer Sandals Men Clogs', 'Cute Animal Slipper For Women Girls Kawaii Fluffy Winter Warm Upgrate Slippers Woman Cartoon Milk Cow House Slippers Funny Shoes', \"autumn period and the new single shoes for women's shoes flat round head soft light and comfortable shoes\", 'Women Boots Platform High Top Fashion Boots Side Zipper Lace-up Versatile Warm Women Boots Cartoon Animal Decoration White Boots', 'Man Women Shark Slippers Summer Home Anti-skid EVA Solid Color Couple Parents Kids Outdoor Cool Indoor Household Funny Shoes', 'Disposable Slippers 5 Pairs Of Plush Shoes Travel Wedding Customizable Pattern Hospitality Enlarge Code Multiple Colors', 'Women Boots Slip On Winter Shoes For Women Waterproof Ankle Boots Winter Boots Female Snow Botines 2022 Black Botas Femininas', \"Classic Men's Casual Loafers Driving Shoes Moccasin Fashion Male Comfortable Autumn Leather Shoes Men Lazy Tassel Dress Shoes\", 'Women Cute Bubble Slippers Massage Litchi Slipper Slides Eva Flip Flops Anti-Slip House Shoes Stress Relief Sole Beach Sandals']\n"
     ]
    }
   ],
   "source": [
    "wshoes_title = ((wshoes_df[\"data.searchResult.mods.itemList.content\"].values[0][0]['title']))\n",
    "\n",
    "wshoes_title_list = []\n",
    "\n",
    "for i in range (20):\n",
    "    each_value = ((wshoes_df[\"data.searchResult.mods.itemList.content\"].values[0][i]['title']['displayTitle']))\n",
    "    wshoes_title_list.append(each_value)\n",
    "    \n",
    "print(wshoes_title_list)"
   ]
  },
  {
   "cell_type": "code",
   "execution_count": 202,
   "id": "b8b1b182",
   "metadata": {},
   "outputs": [
    {
     "name": "stdout",
     "output_type": "stream",
     "text": [
      "['US $35.48', 'US $8.82', 'US $70.94', 'US $19.53', 'US $19.83', 'US $24.62', 'US $3.45', 'US $8.63', 'US $9.99', 'US $19.99', 'US $6.90', 'US $13.28', 'US $8.74', 'US $25.31', 'US $36.33', 'US $12.08', 'US $5.99', 'US $11.57', 'US $29.37', 'US $10.60']\n"
     ]
    }
   ],
   "source": [
    "wshoes_price_list = []\n",
    "\n",
    "for i in range (20):\n",
    "    each_value = ((wshoes_df[\"data.searchResult.mods.itemList.content\"].values[0][i]['prices']['salePrice']['formattedPrice']))\n",
    "    wshoes_price_list.append(each_value)\n",
    "    \n",
    "print(wshoes_price_list)\n"
   ]
  },
  {
   "cell_type": "code",
   "execution_count": 203,
   "id": "c2bb8f21",
   "metadata": {},
   "outputs": [
    {
     "ename": "KeyError",
     "evalue": "'starRating'",
     "output_type": "error",
     "traceback": [
      "\u001b[1;31m---------------------------------------------------------------------------\u001b[0m",
      "\u001b[1;31mKeyError\u001b[0m                                  Traceback (most recent call last)",
      "\u001b[1;32m~\\AppData\\Local\\Temp\\ipykernel_49728\\91358013.py\u001b[0m in \u001b[0;36m<module>\u001b[1;34m\u001b[0m\n\u001b[0;32m      2\u001b[0m \u001b[1;33m\u001b[0m\u001b[0m\n\u001b[0;32m      3\u001b[0m \u001b[1;32mfor\u001b[0m \u001b[0mi\u001b[0m \u001b[1;32min\u001b[0m \u001b[0mrange\u001b[0m \u001b[1;33m(\u001b[0m\u001b[1;36m20\u001b[0m\u001b[1;33m)\u001b[0m\u001b[1;33m:\u001b[0m\u001b[1;33m\u001b[0m\u001b[1;33m\u001b[0m\u001b[0m\n\u001b[1;32m----> 4\u001b[1;33m     \u001b[0meach_value\u001b[0m \u001b[1;33m=\u001b[0m \u001b[1;33m(\u001b[0m\u001b[1;33m(\u001b[0m\u001b[0mwshoes_df\u001b[0m\u001b[1;33m[\u001b[0m\u001b[1;34m\"data.searchResult.mods.itemList.content\"\u001b[0m\u001b[1;33m]\u001b[0m\u001b[1;33m.\u001b[0m\u001b[0mvalues\u001b[0m\u001b[1;33m[\u001b[0m\u001b[1;36m0\u001b[0m\u001b[1;33m]\u001b[0m\u001b[1;33m[\u001b[0m\u001b[0mi\u001b[0m\u001b[1;33m]\u001b[0m\u001b[1;33m[\u001b[0m\u001b[1;34m'starRating'\u001b[0m\u001b[1;33m]\u001b[0m\u001b[1;33m)\u001b[0m\u001b[1;33m)\u001b[0m\u001b[1;33m\u001b[0m\u001b[1;33m\u001b[0m\u001b[0m\n\u001b[0m\u001b[0;32m      5\u001b[0m     \u001b[0mwshoes_star_list\u001b[0m\u001b[1;33m.\u001b[0m\u001b[0mappend\u001b[0m\u001b[1;33m(\u001b[0m\u001b[0meach_value\u001b[0m\u001b[1;33m)\u001b[0m\u001b[1;33m\u001b[0m\u001b[1;33m\u001b[0m\u001b[0m\n\u001b[0;32m      6\u001b[0m \u001b[1;33m\u001b[0m\u001b[0m\n",
      "\u001b[1;31mKeyError\u001b[0m: 'starRating'"
     ]
    }
   ],
   "source": [
    "wshoes_star_list = []\n",
    "\n",
    "for i in range (20):\n",
    "    each_value = ((wshoes_df[\"data.searchResult.mods.itemList.content\"].values[0][i]['starRating']))\n",
    "    wshoes_star_list.append(each_value)\n",
    "    \n",
    "print(wshoes_star_list)"
   ]
  },
  {
   "cell_type": "code",
   "execution_count": 212,
   "id": "57f82a71",
   "metadata": {},
   "outputs": [
    {
     "data": {
      "text/html": [
       "<div>\n",
       "<style scoped>\n",
       "    .dataframe tbody tr th:only-of-type {\n",
       "        vertical-align: middle;\n",
       "    }\n",
       "\n",
       "    .dataframe tbody tr th {\n",
       "        vertical-align: top;\n",
       "    }\n",
       "\n",
       "    .dataframe thead th {\n",
       "        text-align: right;\n",
       "    }\n",
       "</style>\n",
       "<table border=\"1\" class=\"dataframe\">\n",
       "  <thead>\n",
       "    <tr style=\"text-align: right;\">\n",
       "      <th></th>\n",
       "      <th>Product ID</th>\n",
       "      <th>title</th>\n",
       "      <th>Price</th>\n",
       "    </tr>\n",
       "  </thead>\n",
       "  <tbody>\n",
       "    <tr>\n",
       "      <th>0</th>\n",
       "      <td>3256803290146743</td>\n",
       "      <td>2021 Wool wool slippers autumn and winter wome...</td>\n",
       "      <td>US $35.48</td>\n",
       "    </tr>\n",
       "    <tr>\n",
       "      <th>1</th>\n",
       "      <td>3256804146039143</td>\n",
       "      <td>Best Selling Smiley Face Ladies Warm Furry Hom...</td>\n",
       "      <td>US $8.82</td>\n",
       "    </tr>\n",
       "    <tr>\n",
       "      <th>2</th>\n",
       "      <td>3256804644198485</td>\n",
       "      <td>2022 autumn winter new short ladies lightweigh...</td>\n",
       "      <td>US $70.94</td>\n",
       "    </tr>\n",
       "    <tr>\n",
       "      <th>3</th>\n",
       "      <td>3256803305179821</td>\n",
       "      <td>2021 Spring new leisure one-word solid color b...</td>\n",
       "      <td>US $19.53</td>\n",
       "    </tr>\n",
       "    <tr>\n",
       "      <th>4</th>\n",
       "      <td>3256803305197705</td>\n",
       "      <td>summer new style sandals and slippers, soft bo...</td>\n",
       "      <td>US $19.83</td>\n",
       "    </tr>\n",
       "  </tbody>\n",
       "</table>\n",
       "</div>"
      ],
      "text/plain": [
       "         Product ID                                              title  \\\n",
       "0  3256803290146743  2021 Wool wool slippers autumn and winter wome...   \n",
       "1  3256804146039143  Best Selling Smiley Face Ladies Warm Furry Hom...   \n",
       "2  3256804644198485  2022 autumn winter new short ladies lightweigh...   \n",
       "3  3256803305179821  2021 Spring new leisure one-word solid color b...   \n",
       "4  3256803305197705  summer new style sandals and slippers, soft bo...   \n",
       "\n",
       "       Price  \n",
       "0  US $35.48  \n",
       "1   US $8.82  \n",
       "2  US $70.94  \n",
       "3  US $19.53  \n",
       "4  US $19.83  "
      ]
     },
     "execution_count": 212,
     "metadata": {},
     "output_type": "execute_result"
    }
   ],
   "source": [
    "## Create dataframe with women's boots product ids, titles, prices, and star ratings. \n",
    "\n",
    "dict = {'Product ID': wshoes_productId_list, 'title': wshoes_title_list, 'Price': wshoes_price_list}\n",
    "\n",
    "womens_shoes_df = pd.DataFrame(dict)\n",
    "\n",
    "womens_shoes_df.head()\n"
   ]
  },
  {
   "cell_type": "markdown",
   "id": "2e41f529",
   "metadata": {},
   "source": [
    "## Product IDs For Women's Boots"
   ]
  },
  {
   "cell_type": "code",
   "execution_count": null,
   "id": "c2d1eefa",
   "metadata": {},
   "outputs": [],
   "source": [
    "url = \"https://ali-express1.p.rapidapi.com/productsByCategoryV2/200216407\"\n",
    "\n",
    "querystring = {\"sort_type\":\"default\",\"page\":\"1\",\"page_size\":\"20\",\"sort_order\":\"default\"}\n",
    "\n",
    "headers = {\n",
    "\t\"X-RapidAPI-Key\": \"d60b547ecbmshfef17f77d83986cp115e1ajsne03176a7f3a6\",\n",
    "\t\"X-RapidAPI-Host\": \"ali-express1.p.rapidapi.com\"\n",
    "}\n",
    "\n",
    "response = requests.request(\"GET\", url, headers=headers, params=querystring)\n",
    "\n",
    "wboots_json = response.json()"
   ]
  },
  {
   "cell_type": "code",
   "execution_count": null,
   "id": "9df79b3a",
   "metadata": {},
   "outputs": [],
   "source": [
    "wboots_df = pd.DataFrame(wboots_json)"
   ]
  },
  {
   "cell_type": "code",
   "execution_count": null,
   "id": "9085d428",
   "metadata": {},
   "outputs": [
    {
     "data": {
      "text/html": [
       "<div>\n",
       "<style scoped>\n",
       "    .dataframe tbody tr th:only-of-type {\n",
       "        vertical-align: middle;\n",
       "    }\n",
       "\n",
       "    .dataframe tbody tr th {\n",
       "        vertical-align: top;\n",
       "    }\n",
       "\n",
       "    .dataframe thead th {\n",
       "        text-align: right;\n",
       "    }\n",
       "</style>\n",
       "<table border=\"1\" class=\"dataframe\">\n",
       "  <thead>\n",
       "    <tr style=\"text-align: right;\">\n",
       "      <th></th>\n",
       "      <th>code</th>\n",
       "      <th>cost</th>\n",
       "      <th>success</th>\n",
       "      <th>data.abVersion</th>\n",
       "      <th>data.crawler</th>\n",
       "      <th>data.searchResult.mods.searchRapidFilters.content</th>\n",
       "      <th>data.searchResult.mods.searchRefineFilters.content</th>\n",
       "      <th>data.searchResult.mods.sortBar.tItemType</th>\n",
       "      <th>data.searchResult.mods.sortBar.content</th>\n",
       "      <th>data.searchResult.mods.itemList.content</th>\n",
       "      <th>...</th>\n",
       "      <th>data.searchResult.modsStyle.image.small_gap</th>\n",
       "      <th>data.searchResult.modsStyle.prices.decimal_point</th>\n",
       "      <th>data.searchResult.modsStyle.prices.comma_style</th>\n",
       "      <th>data.searchResult.modsStyle.prices.symbol_position</th>\n",
       "      <th>data.searchResult._host</th>\n",
       "      <th>data.searchResult.scm</th>\n",
       "      <th>data.searchResult.version</th>\n",
       "      <th>data.searchResult.srpResult</th>\n",
       "      <th>data.searchResult.tpp_trace</th>\n",
       "      <th>data.trafficChannel</th>\n",
       "    </tr>\n",
       "  </thead>\n",
       "  <tbody>\n",
       "    <tr>\n",
       "      <th>0</th>\n",
       "      <td>200</td>\n",
       "      <td>724</td>\n",
       "      <td>True</td>\n",
       "      <td>1</td>\n",
       "      <td>False</td>\n",
       "      <td>[{'paramType': 'List', 'rapidTiling': True, 'i...</td>\n",
       "      <td>[{'paramType': 'String', 'rapidTiling': False,...</td>\n",
       "      <td>nt_mainsearch_sortbar</td>\n",
       "      <td>[{'sortOrders': [{'selected': True, 'order': '...</td>\n",
       "      <td>[{'lunchTime': '2022-09-30 00:00:00', 'image':...</td>\n",
       "      <td>...</td>\n",
       "      <td>2</td>\n",
       "      <td>.</td>\n",
       "      <td>,</td>\n",
       "      <td>left</td>\n",
       "      <td>hippo.033003005227.us68</td>\n",
       "      <td>1007.28539.297875.0</td>\n",
       "      <td>1.0</td>\n",
       "      <td>[20]</td>\n",
       "      <td>210318c216686282910303755e9d24</td>\n",
       "      <td>main</td>\n",
       "    </tr>\n",
       "  </tbody>\n",
       "</table>\n",
       "<p>1 rows × 72 columns</p>\n",
       "</div>"
      ],
      "text/plain": [
       "   code  cost  success data.abVersion  data.crawler  \\\n",
       "0   200   724     True              1         False   \n",
       "\n",
       "   data.searchResult.mods.searchRapidFilters.content  \\\n",
       "0  [{'paramType': 'List', 'rapidTiling': True, 'i...   \n",
       "\n",
       "  data.searchResult.mods.searchRefineFilters.content  \\\n",
       "0  [{'paramType': 'String', 'rapidTiling': False,...   \n",
       "\n",
       "  data.searchResult.mods.sortBar.tItemType  \\\n",
       "0                    nt_mainsearch_sortbar   \n",
       "\n",
       "              data.searchResult.mods.sortBar.content  \\\n",
       "0  [{'sortOrders': [{'selected': True, 'order': '...   \n",
       "\n",
       "             data.searchResult.mods.itemList.content  ...  \\\n",
       "0  [{'lunchTime': '2022-09-30 00:00:00', 'image':...  ...   \n",
       "\n",
       "   data.searchResult.modsStyle.image.small_gap  \\\n",
       "0                                            2   \n",
       "\n",
       "  data.searchResult.modsStyle.prices.decimal_point  \\\n",
       "0                                                .   \n",
       "\n",
       "  data.searchResult.modsStyle.prices.comma_style  \\\n",
       "0                                              ,   \n",
       "\n",
       "   data.searchResult.modsStyle.prices.symbol_position  \\\n",
       "0                                               left    \n",
       "\n",
       "   data.searchResult._host data.searchResult.scm  data.searchResult.version  \\\n",
       "0  hippo.033003005227.us68   1007.28539.297875.0                        1.0   \n",
       "\n",
       "   data.searchResult.srpResult     data.searchResult.tpp_trace  \\\n",
       "0                         [20]  210318c216686282910303755e9d24   \n",
       "\n",
       "  data.trafficChannel  \n",
       "0                main  \n",
       "\n",
       "[1 rows x 72 columns]"
      ]
     },
     "execution_count": 135,
     "metadata": {},
     "output_type": "execute_result"
    }
   ],
   "source": [
    "# create dataframe\n",
    "wboots_df = pd.json_normalize(wboots_json)\n",
    "wboots_df"
   ]
  },
  {
   "cell_type": "code",
   "execution_count": null,
   "id": "7ee769c3",
   "metadata": {},
   "outputs": [
    {
     "data": {
      "text/html": [
       "<div>\n",
       "<style scoped>\n",
       "    .dataframe tbody tr th:only-of-type {\n",
       "        vertical-align: middle;\n",
       "    }\n",
       "\n",
       "    .dataframe tbody tr th {\n",
       "        vertical-align: top;\n",
       "    }\n",
       "\n",
       "    .dataframe thead th {\n",
       "        text-align: right;\n",
       "    }\n",
       "</style>\n",
       "<table border=\"1\" class=\"dataframe\">\n",
       "  <thead>\n",
       "    <tr style=\"text-align: right;\">\n",
       "      <th></th>\n",
       "      <th>data.searchResult.mods.itemList.content</th>\n",
       "    </tr>\n",
       "  </thead>\n",
       "  <tbody>\n",
       "    <tr>\n",
       "      <th>0</th>\n",
       "      <td>[{'lunchTime': '2022-09-30 00:00:00', 'image':...</td>\n",
       "    </tr>\n",
       "  </tbody>\n",
       "</table>\n",
       "</div>"
      ],
      "text/plain": [
       "             data.searchResult.mods.itemList.content\n",
       "0  [{'lunchTime': '2022-09-30 00:00:00', 'image':..."
      ]
     },
     "execution_count": 136,
     "metadata": {},
     "output_type": "execute_result"
    }
   ],
   "source": [
    "wboots_df = wboots_df[['data.searchResult.mods.itemList.content']]\n",
    "wboots_df"
   ]
  },
  {
   "cell_type": "code",
   "execution_count": null,
   "id": "9f5cb5f3",
   "metadata": {},
   "outputs": [
    {
     "name": "stdout",
     "output_type": "stream",
     "text": [
      "['3256804617472927', '3256804483026473', '3256804628848718', '3256804531066038', '3256804728034603', '3256804718617801', '3256804594023362', '3256804570453332', '3256803312673446', '3256804571739712', '3256804728478128', '3256803512234986', '3256804610608871', '3256804158391470', '3256804180023633', '3256803970221231', '3256804274369718', '3256804549567127', '3256804460765289', '3256804611897209']\n"
     ]
    }
   ],
   "source": [
    "wboosts_productId = ((wboots_df[\"data.searchResult.mods.itemList.content\"].values[0][0]['productId']))\n",
    "\n",
    "\n",
    "wboots_productId_list = []\n",
    "\n",
    "\n",
    "for i in range (20):\n",
    "    each_value = ((wboots_df[\"data.searchResult.mods.itemList.content\"].values[0][i]['productId']))\n",
    "    \n",
    "    wboots_productId_list.append(each_value)\n",
    "\n",
    "print(wboots_productId_list)\n"
   ]
  },
  {
   "cell_type": "code",
   "execution_count": null,
   "id": "6ee92f79",
   "metadata": {},
   "outputs": [
    {
     "name": "stdout",
     "output_type": "stream",
     "text": [
      "['Women Boots Platform High Top Fashion Boots Side Zipper Lace-up Versatile Warm Women Boots Cartoon Animal Decoration White Boots', '2022 New Thick Plush Winter Keep Warm Boots for Women Non-slip Waterproof Snow Boots Woman Flat Heels Warm Cotton Padded Shoes', \"Top Quality LP New Winter Boots Wool Warm  Fleece Ladies Fashion Low Snow Boots Comfort Loafers Single Casual Women's Boots\", 'Women Boots Slip On Winter Shoes For Women Waterproof Ankle Boots Winter Boots Female Snow Botines 2022 Black Botas Femininas', 'Waterproof Boots Women Winter 2022 Non-slip Winter Snow Boots Platform Shoes Warm Ankle Boots Women Cotton Shoes Bottine Femme', '2022 Winter Boots Fur Ladies Snow Boots Real Sheepskin Wool Low-cut Warm Fur Shoes Man and Women Winter Short Boots Super Mini', 'Women Boots Super Warm Snow Boots For Winter Shoes Women Waterproof Ankle Boots With Heels Casual Winter Botas Mujer 2022 New', 'New Snow Boot Style Short Mini Winter Sheepskin Boots Women Waterproof Natural Wool Ankle Boots Fur Lined Ankle Warm Flat Shoes', \"Women's Winter Snow Boots Outdoor Luxury Furry Faux Fox Fur Boots Woman Plush Warm Platform Shoes New Fashion Bottes Big Size 44\", \"Ladies Casual Comfortable Simple Fashion 2023 New Students Short Boots Women's Ankle Boots Knit Socks Platform Women's Slip-ons\", 'Lace up Martin boots shoes new in down boots shoes for women ankle boots shoes for women 2022 boots women', 'BJ Shoes Lightweight Winter Shoes for Men Snow Boots for Women Waterproof Winter Footwear Slip on Unisex Ankle Winter Boots', 'Women Boots Ankle Waterproof Winter Boots For Women Snow Botas Mujer Warm Black Winter Shoes Women Heels Platform Boots Female', 'GOGD Retro Autumn Winter White Knee High Boots Big Size 41 Women Comfy Walking Female Western Cowboy Boot For Dropshipping Shoes', 'Unisex Sock Aqua Shoes Skinners Swimming Sneakers Yoga Minimalist Beach Sports Barefoot Ultra Portable Lightweight Run Footwear', '22 Spring New Handmade Genuine Leather Brushed Loafers Loafers Top Layer Cattlehide Leather Fashion Chain Thick Bottom Chunky', \"Paris Station Fashion Women's Boots Pointed Toe High Heel Boots Sexy Motorcycle Boots Four Seasons Party Over Knee Boots\", \"Luxury Brand 2023 New Women Thick-soled Thick-heeled Warm Boots Women's Towel Cotton Boots Motorcycle Boots 36-43 Boots Women\", 'Elastic Socks Boots Fashion Ankle Boots Women High Heel Thicks  Heel Square Toe Short Boots Women Retro 2022 New Ladies Shoes', 'Waterproof Winter Boots for Women 2022 New Faux Fur Long Plush Snow Boots Woman Platform Ankle Boots Warm Cotton Couples Shoes']\n"
     ]
    }
   ],
   "source": [
    "wboots_title = ((wboots_df[\"data.searchResult.mods.itemList.content\"].values[0][0]['title']))\n",
    "\n",
    "wboots_title_list = []\n",
    "\n",
    "for i in range (20):\n",
    "    each_value = ((wboots_df[\"data.searchResult.mods.itemList.content\"].values[0][i]['title']['displayTitle']))\n",
    "    wboots_title_list.append(each_value)\n",
    "\n",
    "print(wboots_title_list)\n",
    "    "
   ]
  },
  {
   "cell_type": "code",
   "execution_count": null,
   "id": "3f9b5b37",
   "metadata": {},
   "outputs": [
    {
     "name": "stdout",
     "output_type": "stream",
     "text": [
      "['US $36.33', 'US $15.28', 'US $48.50', 'US $11.57', 'US $4.35', 'US $54.48', 'US $16.92', 'US $11.26', 'US $31.64', 'US $10.40', 'US $185.00', 'US $11.45', 'US $16.93', 'US $37.52', 'US $18.41', 'US $47.53', 'US $49.80', 'US $8.76', 'US $12.20', 'US $18.18']\n"
     ]
    }
   ],
   "source": [
    "wboots_price_list = []\n",
    "\n",
    "for i in range (20):\n",
    "    each_value = ((wboots_df[\"data.searchResult.mods.itemList.content\"].values[0][i]['prices']['salePrice']['formattedPrice']))\n",
    "    wboots_price_list.append(each_value)\n",
    "    \n",
    "print(wboots_price_list)"
   ]
  },
  {
   "cell_type": "code",
   "execution_count": null,
   "id": "4076dae8",
   "metadata": {},
   "outputs": [
    {
     "ename": "KeyError",
     "evalue": "'starRating'",
     "output_type": "error",
     "traceback": [
      "\u001b[1;31m---------------------------------------------------------------------------\u001b[0m",
      "\u001b[1;31mKeyError\u001b[0m                                  Traceback (most recent call last)",
      "\u001b[1;32m~\\AppData\\Local\\Temp\\ipykernel_49728\\3217966217.py\u001b[0m in \u001b[0;36m<module>\u001b[1;34m\u001b[0m\n\u001b[0;32m      2\u001b[0m \u001b[1;33m\u001b[0m\u001b[0m\n\u001b[0;32m      3\u001b[0m \u001b[1;32mfor\u001b[0m \u001b[0mi\u001b[0m \u001b[1;32min\u001b[0m \u001b[0mrange\u001b[0m \u001b[1;33m(\u001b[0m\u001b[1;36m20\u001b[0m\u001b[1;33m)\u001b[0m\u001b[1;33m:\u001b[0m\u001b[1;33m\u001b[0m\u001b[1;33m\u001b[0m\u001b[0m\n\u001b[1;32m----> 4\u001b[1;33m     \u001b[0meach_value\u001b[0m \u001b[1;33m=\u001b[0m \u001b[1;33m(\u001b[0m\u001b[1;33m(\u001b[0m\u001b[0mwboots_df\u001b[0m\u001b[1;33m[\u001b[0m\u001b[1;34m\"data.searchResult.mods.itemList.content\"\u001b[0m\u001b[1;33m]\u001b[0m\u001b[1;33m.\u001b[0m\u001b[0mvalues\u001b[0m\u001b[1;33m[\u001b[0m\u001b[1;36m0\u001b[0m\u001b[1;33m]\u001b[0m\u001b[1;33m[\u001b[0m\u001b[0mi\u001b[0m\u001b[1;33m]\u001b[0m\u001b[1;33m[\u001b[0m\u001b[1;34m'starRating'\u001b[0m\u001b[1;33m]\u001b[0m\u001b[1;33m)\u001b[0m\u001b[1;33m)\u001b[0m\u001b[1;33m\u001b[0m\u001b[1;33m\u001b[0m\u001b[0m\n\u001b[0m\u001b[0;32m      5\u001b[0m     \u001b[0mwboots_star_list\u001b[0m\u001b[1;33m.\u001b[0m\u001b[0mappend\u001b[0m\u001b[1;33m(\u001b[0m\u001b[0meach_value\u001b[0m\u001b[1;33m)\u001b[0m\u001b[1;33m\u001b[0m\u001b[1;33m\u001b[0m\u001b[0m\n\u001b[0;32m      6\u001b[0m \u001b[1;33m\u001b[0m\u001b[0m\n",
      "\u001b[1;31mKeyError\u001b[0m: 'starRating'"
     ]
    }
   ],
   "source": [
    "wboots_star_list = []\n",
    "\n",
    "for i in range (20):\n",
    "    each_value = ((wboots_df[\"data.searchResult.mods.itemList.content\"].values[0][i]['starRating']))\n",
    "    wboots_star_list.append(each_value)\n",
    "    \n",
    "print(wboots_star_list)"
   ]
  },
  {
   "cell_type": "code",
   "execution_count": 211,
   "id": "3276bf98",
   "metadata": {},
   "outputs": [
    {
     "data": {
      "text/html": [
       "<div>\n",
       "<style scoped>\n",
       "    .dataframe tbody tr th:only-of-type {\n",
       "        vertical-align: middle;\n",
       "    }\n",
       "\n",
       "    .dataframe tbody tr th {\n",
       "        vertical-align: top;\n",
       "    }\n",
       "\n",
       "    .dataframe thead th {\n",
       "        text-align: right;\n",
       "    }\n",
       "</style>\n",
       "<table border=\"1\" class=\"dataframe\">\n",
       "  <thead>\n",
       "    <tr style=\"text-align: right;\">\n",
       "      <th></th>\n",
       "      <th>Product ID</th>\n",
       "      <th>title</th>\n",
       "      <th>Price</th>\n",
       "    </tr>\n",
       "  </thead>\n",
       "  <tbody>\n",
       "    <tr>\n",
       "      <th>0</th>\n",
       "      <td>3256804617472927</td>\n",
       "      <td>Women Boots Platform High Top Fashion Boots Si...</td>\n",
       "      <td>US $36.33</td>\n",
       "    </tr>\n",
       "    <tr>\n",
       "      <th>1</th>\n",
       "      <td>3256804483026473</td>\n",
       "      <td>2022 New Thick Plush Winter Keep Warm Boots fo...</td>\n",
       "      <td>US $15.28</td>\n",
       "    </tr>\n",
       "    <tr>\n",
       "      <th>2</th>\n",
       "      <td>3256804628848718</td>\n",
       "      <td>Top Quality LP New Winter Boots Wool Warm  Fle...</td>\n",
       "      <td>US $48.50</td>\n",
       "    </tr>\n",
       "    <tr>\n",
       "      <th>3</th>\n",
       "      <td>3256804531066038</td>\n",
       "      <td>Women Boots Slip On Winter Shoes For Women Wat...</td>\n",
       "      <td>US $11.57</td>\n",
       "    </tr>\n",
       "    <tr>\n",
       "      <th>4</th>\n",
       "      <td>3256804728034603</td>\n",
       "      <td>Waterproof Boots Women Winter 2022 Non-slip Wi...</td>\n",
       "      <td>US $4.35</td>\n",
       "    </tr>\n",
       "  </tbody>\n",
       "</table>\n",
       "</div>"
      ],
      "text/plain": [
       "         Product ID                                              title  \\\n",
       "0  3256804617472927  Women Boots Platform High Top Fashion Boots Si...   \n",
       "1  3256804483026473  2022 New Thick Plush Winter Keep Warm Boots fo...   \n",
       "2  3256804628848718  Top Quality LP New Winter Boots Wool Warm  Fle...   \n",
       "3  3256804531066038  Women Boots Slip On Winter Shoes For Women Wat...   \n",
       "4  3256804728034603  Waterproof Boots Women Winter 2022 Non-slip Wi...   \n",
       "\n",
       "       Price  \n",
       "0  US $36.33  \n",
       "1  US $15.28  \n",
       "2  US $48.50  \n",
       "3  US $11.57  \n",
       "4   US $4.35  "
      ]
     },
     "execution_count": 211,
     "metadata": {},
     "output_type": "execute_result"
    }
   ],
   "source": [
    "## Create dataframe with women's boots product ids, titles, prices, and star ratings. \n",
    "\n",
    "dict = {'Product ID': wboots_productId_list, 'title': wboots_title_list, 'Price': wboots_price_list}\n",
    "\n",
    "womens_boots_df = pd.DataFrame(dict)\n",
    "\n",
    "womens_boots_df.head()\n"
   ]
  },
  {
   "cell_type": "markdown",
   "id": "07a8f504",
   "metadata": {},
   "source": [
    "## Product IDs For Women's Flats"
   ]
  },
  {
   "cell_type": "code",
   "execution_count": null,
   "id": "faccd195",
   "metadata": {},
   "outputs": [],
   "source": [
    "url = \"https://ali-express1.p.rapidapi.com/productsByCategoryV2/200002155\"\n",
    "\n",
    "querystring = {\"sort_type\":\"default\",\"page\":\"1\",\"page_size\":\"20\",\"sort_order\":\"default\"}\n",
    "\n",
    "headers = {\n",
    "\t\"X-RapidAPI-Key\": \"d60b547ecbmshfef17f77d83986cp115e1ajsne03176a7f3a6\",\n",
    "\t\"X-RapidAPI-Host\": \"ali-express1.p.rapidapi.com\"\n",
    "}\n",
    "\n",
    "response = requests.request(\"GET\", url, headers=headers, params=querystring)\n",
    "\n",
    "wflats_json = response.json()"
   ]
  },
  {
   "cell_type": "code",
   "execution_count": null,
   "id": "8e083388",
   "metadata": {},
   "outputs": [],
   "source": [
    "wflats_df = pd.DataFrame(wflats_json)"
   ]
  },
  {
   "cell_type": "code",
   "execution_count": null,
   "id": "2e4d6951",
   "metadata": {},
   "outputs": [
    {
     "data": {
      "text/html": [
       "<div>\n",
       "<style scoped>\n",
       "    .dataframe tbody tr th:only-of-type {\n",
       "        vertical-align: middle;\n",
       "    }\n",
       "\n",
       "    .dataframe tbody tr th {\n",
       "        vertical-align: top;\n",
       "    }\n",
       "\n",
       "    .dataframe thead th {\n",
       "        text-align: right;\n",
       "    }\n",
       "</style>\n",
       "<table border=\"1\" class=\"dataframe\">\n",
       "  <thead>\n",
       "    <tr style=\"text-align: right;\">\n",
       "      <th></th>\n",
       "      <th>code</th>\n",
       "      <th>cost</th>\n",
       "      <th>success</th>\n",
       "      <th>data.abVersion</th>\n",
       "      <th>data.crawler</th>\n",
       "      <th>data.searchResult.mods.searchRapidFilters.content</th>\n",
       "      <th>data.searchResult.mods.searchRefineFilters.content</th>\n",
       "      <th>data.searchResult.mods.sortBar.tItemType</th>\n",
       "      <th>data.searchResult.mods.sortBar.content</th>\n",
       "      <th>data.searchResult.mods.itemList.content</th>\n",
       "      <th>...</th>\n",
       "      <th>data.searchResult.modsStyle.image.small_gap</th>\n",
       "      <th>data.searchResult.modsStyle.prices.decimal_point</th>\n",
       "      <th>data.searchResult.modsStyle.prices.comma_style</th>\n",
       "      <th>data.searchResult.modsStyle.prices.symbol_position</th>\n",
       "      <th>data.searchResult._host</th>\n",
       "      <th>data.searchResult.scm</th>\n",
       "      <th>data.searchResult.version</th>\n",
       "      <th>data.searchResult.srpResult</th>\n",
       "      <th>data.searchResult.tpp_trace</th>\n",
       "      <th>data.trafficChannel</th>\n",
       "    </tr>\n",
       "  </thead>\n",
       "  <tbody>\n",
       "    <tr>\n",
       "      <th>0</th>\n",
       "      <td>200</td>\n",
       "      <td>400</td>\n",
       "      <td>True</td>\n",
       "      <td>1</td>\n",
       "      <td>False</td>\n",
       "      <td>[{'paramType': 'List', 'rapidTiling': True, 'i...</td>\n",
       "      <td>[{'paramType': 'String', 'rapidTiling': False,...</td>\n",
       "      <td>nt_mainsearch_sortbar</td>\n",
       "      <td>[{'sortOrders': [{'selected': True, 'order': '...</td>\n",
       "      <td>[{'image': {'imgUrl': 'https://ae04.alicdn.com...</td>\n",
       "      <td>...</td>\n",
       "      <td>2</td>\n",
       "      <td>.</td>\n",
       "      <td>,</td>\n",
       "      <td>left</td>\n",
       "      <td>hippo.033001229125.us44</td>\n",
       "      <td>1007.28539.297875.0</td>\n",
       "      <td>1.0</td>\n",
       "      <td>[20]</td>\n",
       "      <td>2103250d16686292734348526ea780</td>\n",
       "      <td>main</td>\n",
       "    </tr>\n",
       "  </tbody>\n",
       "</table>\n",
       "<p>1 rows × 72 columns</p>\n",
       "</div>"
      ],
      "text/plain": [
       "   code  cost  success data.abVersion  data.crawler  \\\n",
       "0   200   400     True              1         False   \n",
       "\n",
       "   data.searchResult.mods.searchRapidFilters.content  \\\n",
       "0  [{'paramType': 'List', 'rapidTiling': True, 'i...   \n",
       "\n",
       "  data.searchResult.mods.searchRefineFilters.content  \\\n",
       "0  [{'paramType': 'String', 'rapidTiling': False,...   \n",
       "\n",
       "  data.searchResult.mods.sortBar.tItemType  \\\n",
       "0                    nt_mainsearch_sortbar   \n",
       "\n",
       "              data.searchResult.mods.sortBar.content  \\\n",
       "0  [{'sortOrders': [{'selected': True, 'order': '...   \n",
       "\n",
       "             data.searchResult.mods.itemList.content  ...  \\\n",
       "0  [{'image': {'imgUrl': 'https://ae04.alicdn.com...  ...   \n",
       "\n",
       "   data.searchResult.modsStyle.image.small_gap  \\\n",
       "0                                            2   \n",
       "\n",
       "  data.searchResult.modsStyle.prices.decimal_point  \\\n",
       "0                                                .   \n",
       "\n",
       "  data.searchResult.modsStyle.prices.comma_style  \\\n",
       "0                                              ,   \n",
       "\n",
       "   data.searchResult.modsStyle.prices.symbol_position  \\\n",
       "0                                               left    \n",
       "\n",
       "   data.searchResult._host data.searchResult.scm  data.searchResult.version  \\\n",
       "0  hippo.033001229125.us44   1007.28539.297875.0                        1.0   \n",
       "\n",
       "   data.searchResult.srpResult     data.searchResult.tpp_trace  \\\n",
       "0                         [20]  2103250d16686292734348526ea780   \n",
       "\n",
       "  data.trafficChannel  \n",
       "0                main  \n",
       "\n",
       "[1 rows x 72 columns]"
      ]
     },
     "execution_count": 146,
     "metadata": {},
     "output_type": "execute_result"
    }
   ],
   "source": [
    "# create dataframe\n",
    "wflats_df = pd.json_normalize(wflats_json)\n",
    "wflats_df"
   ]
  },
  {
   "cell_type": "code",
   "execution_count": null,
   "id": "068118c2",
   "metadata": {},
   "outputs": [
    {
     "data": {
      "text/plain": [
       "<_io.TextIOWrapper name='out.csv' mode='r' encoding='utf-8'>"
      ]
     },
     "execution_count": 147,
     "metadata": {},
     "output_type": "execute_result"
    }
   ],
   "source": [
    "wflats_df = wflats_df[['data.searchResult.mods.itemList.content']]\n",
    "f"
   ]
  },
  {
   "cell_type": "code",
   "execution_count": null,
   "id": "0cbb9fb3",
   "metadata": {},
   "outputs": [
    {
     "name": "stdout",
     "output_type": "stream",
     "text": [
      "['3256803290146743', '3256803305179821', '3256803636531347', '3256803305197705', '3256803290148690', '3256804623328276', '3256804614754103', '3256804552876588', '3256804428351342', '3256804146965002', '3256804555376850', '3256804583276496', '3256804096886433', '3256802423567155', '3256802144987986', '3256803361828219', '3256804265767660', '3256804679939115', '3256804627451745', '3256804082257567']\n",
      "['3256803290146743', '3256804146039143', '3256804644198485', '3256803305179821', '3256803305197705', '3256803290148690', '3256804417681054', '3256804655013583', '3256804568740738', '3256803313822268', '3256802759707769', '3256804450894638', '3256804606583693', '3256804614754103', '3256804617472927', '3256804139482283', '3256803147612333', '3256804531066038', '3256804564507961', '3256804546795854']\n"
     ]
    }
   ],
   "source": [
    "wflats_productId = ((wflats_df[\"data.searchResult.mods.itemList.content\"].values[0][0]['productId']))\n",
    "\n",
    "\n",
    "wflats_productId_list = []\n",
    "\n",
    "\n",
    "for i in range (20):\n",
    "    each_value = ((wflats_df[\"data.searchResult.mods.itemList.content\"].values[0][i]['productId']))\n",
    "    \n",
    "    wflats_productId_list.append(each_value)\n",
    "\n",
    "print(wflats_productId_list)\n",
    "\n",
    "print(wshoes_productId_list)"
   ]
  },
  {
   "cell_type": "code",
   "execution_count": null,
   "id": "4804413e",
   "metadata": {},
   "outputs": [
    {
     "name": "stdout",
     "output_type": "stream",
     "text": [
      "['2021 Wool wool slippers autumn and winter women comfortable home with warm indoor quiet soft bottom Hao-008-APEX', \"2021 Spring new leisure one-word solid color beach slippers indoor drag fashion women's shoes SU02\", 'Fujin 10cm Platform Wedge Sneakers Chunky Shoes Genuine Leather for Women Summer Shoes Spring Autumn Walking Sneakers Fashion', 'summer new style sandals and slippers, soft bottom indoor yanJc15 tai  3025', '2022 new Casual shoes for women a foot of flat shoes casual shoes KIDS01 Hao-004-kids', 'New style cotton slippers cotton slippers autumn and winter women indoor and outdoor floor skid-proof thick bottom', \"autumn period and the new single shoes for women's shoes flat round head soft light and comfortable shoes\", 'Cotton slippers ladies autumn and winter indoor wool slippers warm home cotton slippers anti-slip', '2022 the new leisure shoes lazy flat shoes', 'ZZFABER Barefoot Shoes Women Sneakers Flexible Ladies Casual Flats Unisex Aqua Shoes Soft Hiking Sports Running Shoes for Men', \"2022 Brand Summer Genuine Leather Women's Sandals Classic Rivet Pointed High Heels Sexy Luxury Pumps Wedding Party Shoes\", \"Leather slippers winter women's home slippers plush warm anti-slip AP3kuan\", \"Women's Jersey Round Toe Soft Ladies Moccasins Breathable Comfortable Work Shoes Fashion Ladies Flat Lightweight Driving Loafers\", '2021 Fashion Women Black Sneakers 44 Chaussure Femme Women Sneakers Zipper Canvas Casual Shoes Woman Spring Ladies Shoe', 'MIA 090 Shoes', 'Slippers female summer soft bottom household indoor non-slip feet couple bathroom bathing silent sandals and slippers YJ-6', 'ADVOCATOR Splatoon Print High Top Canvas Shoes for Women Girl Casual Spring Ladies Sneakers Student Running Shoes Free Shipping', \"LEOPARD LAND Girls' Lolita Shoes Women PU Thick Sole Students JK Uniform Mary Jane Shoes Japanese Cosplay Vintage Fashion HYGC\", '2022 high quality thick-soled canvas shoes luxury brand design spring and autumn sports and leisure shoes.', '2022 Girl Street Leather Women Casual Sport Shoes  Mesh Patchwork Stripe Comfortable Sneakers Seasons Trainers']\n",
      "['2021 Wool wool slippers autumn and winter women comfortable home with warm indoor quiet soft bottom Hao-008-APEX', 'Best Selling Smiley Face Ladies Warm Furry Home House Cute Bedroom Pantoufle Women  Men Slippers', '2022 autumn winter new short ladies lightweight round neck knit jacket outdoor leisure sports fashion high-end delicate', \"2021 Spring new leisure one-word solid color beach slippers indoor drag fashion women's shoes SU02\", 'summer new style sandals and slippers, soft bottom indoor yanJc15 tai  3025', '2022 new Casual shoes for women a foot of flat shoes casual shoes KIDS01 Hao-004-kids', '2022 New Women Indoor Slippers Warm Plush Home Slipper Anti Slip Autumn Winter Shoes House Floor Soft Slient Slides for Bedroom', 'Women Winter Luxury Fashion Cotton Bubble Slides Flat Platform Round Toe Warm Bubble Slippers Wholesale Bulk Women Shoes Big', 'Bad Bunny Un Verano Sin Ti Autumn Winter Fulffy Fur Slippers Plush Fleece Flat Love Heart Slippers Indoor Slippers Couple Shoes', 'NEW Winter Keep Warm Women Fur Furry Slippers for Home Fluffy Soft Indoor Slides Non Slip Indoor House Shoes', '2022 Summer Women Fashion Personality Indoor Home bathroom Massage Bubble Slide Men Lady Outdoor Beach Thick Sole Bubble Slipper', 'YISHEN Unisex Summer Slides For Women Indoor Slippers Bubble Slides Massage Litchi Sandals Fashion Designer Sandals Men Clogs', 'Cute Animal Slipper For Women Girls Kawaii Fluffy Winter Warm Upgrate Slippers Woman Cartoon Milk Cow House Slippers Funny Shoes', \"autumn period and the new single shoes for women's shoes flat round head soft light and comfortable shoes\", 'Women Boots Platform High Top Fashion Boots Side Zipper Lace-up Versatile Warm Women Boots Cartoon Animal Decoration White Boots', 'Man Women Shark Slippers Summer Home Anti-skid EVA Solid Color Couple Parents Kids Outdoor Cool Indoor Household Funny Shoes', 'Disposable Slippers 5 Pairs Of Plush Shoes Travel Wedding Customizable Pattern Hospitality Enlarge Code Multiple Colors', 'Women Boots Slip On Winter Shoes For Women Waterproof Ankle Boots Winter Boots Female Snow Botines 2022 Black Botas Femininas', \"Classic Men's Casual Loafers Driving Shoes Moccasin Fashion Male Comfortable Autumn Leather Shoes Men Lazy Tassel Dress Shoes\", 'Women Cute Bubble Slippers Massage Litchi Slipper Slides Eva Flip Flops Anti-Slip House Shoes Stress Relief Sole Beach Sandals']\n"
     ]
    }
   ],
   "source": [
    "wflats_title = ((wflats_df[\"data.searchResult.mods.itemList.content\"].values[0][0]['title']))\n",
    "\n",
    "wflats_title_list = []\n",
    "\n",
    "for i in range (20):\n",
    "    each_value = ((wflats_df[\"data.searchResult.mods.itemList.content\"].values[0][i]['title']['displayTitle']))\n",
    "    wflats_title_list.append(each_value)\n",
    "\n",
    "print(wflats_title_list)\n",
    "\n",
    "print(wshoes_title_list)"
   ]
  },
  {
   "cell_type": "code",
   "execution_count": null,
   "id": "fbb5486f",
   "metadata": {},
   "outputs": [
    {
     "name": "stdout",
     "output_type": "stream",
     "text": [
      "['US $35.48', 'US $19.53', 'US $37.80', 'US $19.83', 'US $24.62', 'US $24.05', 'US $25.31', 'US $18.98', 'US $30.37', 'US $20.75', 'US $55.00', 'US $33.44', 'US $35.00', 'US $27.49', 'US $300.00', 'US $21.15', 'US $34.13', 'US $16.63', 'US $47.44', 'US $30.00']\n"
     ]
    }
   ],
   "source": [
    "wflats_price_list = []\n",
    "\n",
    "for i in range (20):\n",
    "    each_value = ((wflats_df[\"data.searchResult.mods.itemList.content\"].values[0][i]['prices']['salePrice']['formattedPrice']))\n",
    "    wflats_price_list.append(each_value)\n",
    "    \n",
    "print(wflats_price_list)"
   ]
  },
  {
   "cell_type": "code",
   "execution_count": 205,
   "id": "7df357c1",
   "metadata": {},
   "outputs": [
    {
     "ename": "KeyError",
     "evalue": "'starRating'",
     "output_type": "error",
     "traceback": [
      "\u001b[1;31m---------------------------------------------------------------------------\u001b[0m",
      "\u001b[1;31mKeyError\u001b[0m                                  Traceback (most recent call last)",
      "\u001b[1;32m~\\AppData\\Local\\Temp\\ipykernel_49728\\1262603205.py\u001b[0m in \u001b[0;36m<module>\u001b[1;34m\u001b[0m\n\u001b[0;32m      2\u001b[0m \u001b[1;33m\u001b[0m\u001b[0m\n\u001b[0;32m      3\u001b[0m \u001b[1;32mfor\u001b[0m \u001b[0mi\u001b[0m \u001b[1;32min\u001b[0m \u001b[0mrange\u001b[0m \u001b[1;33m(\u001b[0m\u001b[1;36m20\u001b[0m\u001b[1;33m)\u001b[0m\u001b[1;33m:\u001b[0m\u001b[1;33m\u001b[0m\u001b[1;33m\u001b[0m\u001b[0m\n\u001b[1;32m----> 4\u001b[1;33m     \u001b[0meach_value\u001b[0m \u001b[1;33m=\u001b[0m \u001b[1;33m(\u001b[0m\u001b[1;33m(\u001b[0m\u001b[0mwflats_df\u001b[0m\u001b[1;33m[\u001b[0m\u001b[1;34m\"data.searchResult.mods.itemList.content\"\u001b[0m\u001b[1;33m]\u001b[0m\u001b[1;33m.\u001b[0m\u001b[0mvalues\u001b[0m\u001b[1;33m[\u001b[0m\u001b[1;36m0\u001b[0m\u001b[1;33m]\u001b[0m\u001b[1;33m[\u001b[0m\u001b[0mi\u001b[0m\u001b[1;33m]\u001b[0m\u001b[1;33m[\u001b[0m\u001b[1;34m'starRating'\u001b[0m\u001b[1;33m]\u001b[0m\u001b[1;33m)\u001b[0m\u001b[1;33m)\u001b[0m\u001b[1;33m\u001b[0m\u001b[1;33m\u001b[0m\u001b[0m\n\u001b[0m\u001b[0;32m      5\u001b[0m     \u001b[0mwboots_star_list\u001b[0m\u001b[1;33m.\u001b[0m\u001b[0mappend\u001b[0m\u001b[1;33m(\u001b[0m\u001b[0meach_value\u001b[0m\u001b[1;33m)\u001b[0m\u001b[1;33m\u001b[0m\u001b[1;33m\u001b[0m\u001b[0m\n\u001b[0;32m      6\u001b[0m \u001b[1;33m\u001b[0m\u001b[0m\n",
      "\u001b[1;31mKeyError\u001b[0m: 'starRating'"
     ]
    }
   ],
   "source": [
    "wflats_star_list = []\n",
    "\n",
    "for i in range (20):\n",
    "    each_value = ((wflats_df[\"data.searchResult.mods.itemList.content\"].values[0][i]['starRating']))\n",
    "    wboots_star_list.append(each_value)\n",
    "    \n",
    "print(wflats_star_list)"
   ]
  },
  {
   "cell_type": "code",
   "execution_count": 209,
   "id": "0113a5ce",
   "metadata": {},
   "outputs": [
    {
     "ename": "ValueError",
     "evalue": "All arrays must be of the same length",
     "output_type": "error",
     "traceback": [
      "\u001b[1;31m---------------------------------------------------------------------------\u001b[0m",
      "\u001b[1;31mValueError\u001b[0m                                Traceback (most recent call last)",
      "\u001b[1;32m~\\AppData\\Local\\Temp\\ipykernel_49728\\2961396187.py\u001b[0m in \u001b[0;36m<module>\u001b[1;34m\u001b[0m\n\u001b[0;32m      3\u001b[0m \u001b[0mdict\u001b[0m \u001b[1;33m=\u001b[0m \u001b[1;33m{\u001b[0m\u001b[1;34m'Product ID'\u001b[0m\u001b[1;33m:\u001b[0m \u001b[0mwflats_productId_list\u001b[0m\u001b[1;33m,\u001b[0m \u001b[1;34m'title'\u001b[0m\u001b[1;33m:\u001b[0m \u001b[0mwflats_title_list\u001b[0m\u001b[1;33m,\u001b[0m \u001b[1;34m'Price'\u001b[0m\u001b[1;33m:\u001b[0m \u001b[0mwflats_price_list\u001b[0m\u001b[1;33m}\u001b[0m\u001b[1;33m\u001b[0m\u001b[1;33m\u001b[0m\u001b[0m\n\u001b[0;32m      4\u001b[0m \u001b[1;33m\u001b[0m\u001b[0m\n\u001b[1;32m----> 5\u001b[1;33m \u001b[0mwomens_flats_df\u001b[0m \u001b[1;33m=\u001b[0m \u001b[0mpd\u001b[0m\u001b[1;33m.\u001b[0m\u001b[0mDataFrame\u001b[0m\u001b[1;33m(\u001b[0m\u001b[0mdict\u001b[0m\u001b[1;33m)\u001b[0m\u001b[1;33m\u001b[0m\u001b[1;33m\u001b[0m\u001b[0m\n\u001b[0m",
      "\u001b[1;32mc:\\Users\\sears\\anaconda3\\envs\\PythonData\\lib\\site-packages\\pandas\\core\\frame.py\u001b[0m in \u001b[0;36m__init__\u001b[1;34m(self, data, index, columns, dtype, copy)\u001b[0m\n\u001b[0;32m    612\u001b[0m         \u001b[1;32melif\u001b[0m \u001b[0misinstance\u001b[0m\u001b[1;33m(\u001b[0m\u001b[0mdata\u001b[0m\u001b[1;33m,\u001b[0m \u001b[0mdict\u001b[0m\u001b[1;33m)\u001b[0m\u001b[1;33m:\u001b[0m\u001b[1;33m\u001b[0m\u001b[1;33m\u001b[0m\u001b[0m\n\u001b[0;32m    613\u001b[0m             \u001b[1;31m# GH#38939 de facto copy defaults to False only in non-dict cases\u001b[0m\u001b[1;33m\u001b[0m\u001b[1;33m\u001b[0m\u001b[1;33m\u001b[0m\u001b[0m\n\u001b[1;32m--> 614\u001b[1;33m             \u001b[0mmgr\u001b[0m \u001b[1;33m=\u001b[0m \u001b[0mdict_to_mgr\u001b[0m\u001b[1;33m(\u001b[0m\u001b[0mdata\u001b[0m\u001b[1;33m,\u001b[0m \u001b[0mindex\u001b[0m\u001b[1;33m,\u001b[0m \u001b[0mcolumns\u001b[0m\u001b[1;33m,\u001b[0m \u001b[0mdtype\u001b[0m\u001b[1;33m=\u001b[0m\u001b[0mdtype\u001b[0m\u001b[1;33m,\u001b[0m \u001b[0mcopy\u001b[0m\u001b[1;33m=\u001b[0m\u001b[0mcopy\u001b[0m\u001b[1;33m,\u001b[0m \u001b[0mtyp\u001b[0m\u001b[1;33m=\u001b[0m\u001b[0mmanager\u001b[0m\u001b[1;33m)\u001b[0m\u001b[1;33m\u001b[0m\u001b[1;33m\u001b[0m\u001b[0m\n\u001b[0m\u001b[0;32m    615\u001b[0m         \u001b[1;32melif\u001b[0m \u001b[0misinstance\u001b[0m\u001b[1;33m(\u001b[0m\u001b[0mdata\u001b[0m\u001b[1;33m,\u001b[0m \u001b[0mma\u001b[0m\u001b[1;33m.\u001b[0m\u001b[0mMaskedArray\u001b[0m\u001b[1;33m)\u001b[0m\u001b[1;33m:\u001b[0m\u001b[1;33m\u001b[0m\u001b[1;33m\u001b[0m\u001b[0m\n\u001b[0;32m    616\u001b[0m             \u001b[1;32mimport\u001b[0m \u001b[0mnumpy\u001b[0m\u001b[1;33m.\u001b[0m\u001b[0mma\u001b[0m\u001b[1;33m.\u001b[0m\u001b[0mmrecords\u001b[0m \u001b[1;32mas\u001b[0m \u001b[0mmrecords\u001b[0m\u001b[1;33m\u001b[0m\u001b[1;33m\u001b[0m\u001b[0m\n",
      "\u001b[1;32mc:\\Users\\sears\\anaconda3\\envs\\PythonData\\lib\\site-packages\\pandas\\core\\internals\\construction.py\u001b[0m in \u001b[0;36mdict_to_mgr\u001b[1;34m(data, index, columns, dtype, typ, copy)\u001b[0m\n\u001b[0;32m    463\u001b[0m \u001b[1;33m\u001b[0m\u001b[0m\n\u001b[0;32m    464\u001b[0m     return arrays_to_mgr(\n\u001b[1;32m--> 465\u001b[1;33m         \u001b[0marrays\u001b[0m\u001b[1;33m,\u001b[0m \u001b[0mdata_names\u001b[0m\u001b[1;33m,\u001b[0m \u001b[0mindex\u001b[0m\u001b[1;33m,\u001b[0m \u001b[0mcolumns\u001b[0m\u001b[1;33m,\u001b[0m \u001b[0mdtype\u001b[0m\u001b[1;33m=\u001b[0m\u001b[0mdtype\u001b[0m\u001b[1;33m,\u001b[0m \u001b[0mtyp\u001b[0m\u001b[1;33m=\u001b[0m\u001b[0mtyp\u001b[0m\u001b[1;33m,\u001b[0m \u001b[0mconsolidate\u001b[0m\u001b[1;33m=\u001b[0m\u001b[0mcopy\u001b[0m\u001b[1;33m\u001b[0m\u001b[1;33m\u001b[0m\u001b[0m\n\u001b[0m\u001b[0;32m    466\u001b[0m     )\n\u001b[0;32m    467\u001b[0m \u001b[1;33m\u001b[0m\u001b[0m\n",
      "\u001b[1;32mc:\\Users\\sears\\anaconda3\\envs\\PythonData\\lib\\site-packages\\pandas\\core\\internals\\construction.py\u001b[0m in \u001b[0;36marrays_to_mgr\u001b[1;34m(arrays, arr_names, index, columns, dtype, verify_integrity, typ, consolidate)\u001b[0m\n\u001b[0;32m    117\u001b[0m         \u001b[1;31m# figure out the index, if necessary\u001b[0m\u001b[1;33m\u001b[0m\u001b[1;33m\u001b[0m\u001b[1;33m\u001b[0m\u001b[0m\n\u001b[0;32m    118\u001b[0m         \u001b[1;32mif\u001b[0m \u001b[0mindex\u001b[0m \u001b[1;32mis\u001b[0m \u001b[1;32mNone\u001b[0m\u001b[1;33m:\u001b[0m\u001b[1;33m\u001b[0m\u001b[1;33m\u001b[0m\u001b[0m\n\u001b[1;32m--> 119\u001b[1;33m             \u001b[0mindex\u001b[0m \u001b[1;33m=\u001b[0m \u001b[0m_extract_index\u001b[0m\u001b[1;33m(\u001b[0m\u001b[0marrays\u001b[0m\u001b[1;33m)\u001b[0m\u001b[1;33m\u001b[0m\u001b[1;33m\u001b[0m\u001b[0m\n\u001b[0m\u001b[0;32m    120\u001b[0m         \u001b[1;32melse\u001b[0m\u001b[1;33m:\u001b[0m\u001b[1;33m\u001b[0m\u001b[1;33m\u001b[0m\u001b[0m\n\u001b[0;32m    121\u001b[0m             \u001b[0mindex\u001b[0m \u001b[1;33m=\u001b[0m \u001b[0mensure_index\u001b[0m\u001b[1;33m(\u001b[0m\u001b[0mindex\u001b[0m\u001b[1;33m)\u001b[0m\u001b[1;33m\u001b[0m\u001b[1;33m\u001b[0m\u001b[0m\n",
      "\u001b[1;32mc:\\Users\\sears\\anaconda3\\envs\\PythonData\\lib\\site-packages\\pandas\\core\\internals\\construction.py\u001b[0m in \u001b[0;36m_extract_index\u001b[1;34m(data)\u001b[0m\n\u001b[0;32m    633\u001b[0m             \u001b[0mlengths\u001b[0m \u001b[1;33m=\u001b[0m \u001b[0mlist\u001b[0m\u001b[1;33m(\u001b[0m\u001b[0mset\u001b[0m\u001b[1;33m(\u001b[0m\u001b[0mraw_lengths\u001b[0m\u001b[1;33m)\u001b[0m\u001b[1;33m)\u001b[0m\u001b[1;33m\u001b[0m\u001b[1;33m\u001b[0m\u001b[0m\n\u001b[0;32m    634\u001b[0m             \u001b[1;32mif\u001b[0m \u001b[0mlen\u001b[0m\u001b[1;33m(\u001b[0m\u001b[0mlengths\u001b[0m\u001b[1;33m)\u001b[0m \u001b[1;33m>\u001b[0m \u001b[1;36m1\u001b[0m\u001b[1;33m:\u001b[0m\u001b[1;33m\u001b[0m\u001b[1;33m\u001b[0m\u001b[0m\n\u001b[1;32m--> 635\u001b[1;33m                 \u001b[1;32mraise\u001b[0m \u001b[0mValueError\u001b[0m\u001b[1;33m(\u001b[0m\u001b[1;34m\"All arrays must be of the same length\"\u001b[0m\u001b[1;33m)\u001b[0m\u001b[1;33m\u001b[0m\u001b[1;33m\u001b[0m\u001b[0m\n\u001b[0m\u001b[0;32m    636\u001b[0m \u001b[1;33m\u001b[0m\u001b[0m\n\u001b[0;32m    637\u001b[0m             \u001b[1;32mif\u001b[0m \u001b[0mhave_dicts\u001b[0m\u001b[1;33m:\u001b[0m\u001b[1;33m\u001b[0m\u001b[1;33m\u001b[0m\u001b[0m\n",
      "\u001b[1;31mValueError\u001b[0m: All arrays must be of the same length"
     ]
    }
   ],
   "source": [
    "##Create dataframe with women's boots product ids, titles, prices, and star ratings. \n",
    "\n",
    "dict = {'Product ID': wflats_productId_list, 'title': wflats_title_list, 'Price': wflats_price_list}\n",
    "\n",
    "womens_flats_df = pd.DataFrame(dict)"
   ]
  },
  {
   "cell_type": "markdown",
   "id": "6cc489b7",
   "metadata": {},
   "source": [
    "## Product IDs For Men's Shoes"
   ]
  },
  {
   "cell_type": "code",
   "execution_count": null,
   "id": "e8d7f39a",
   "metadata": {},
   "outputs": [],
   "source": [
    "url = \"https://ali-express1.p.rapidapi.com/productsByCategoryV2/100001615\"\n",
    "\n",
    "querystring = {\"sort_type\":\"default\",\"page\":\"1\",\"page_size\":\"20\",\"sort_order\":\"default\"}\n",
    "\n",
    "headers = {\n",
    "\t\"X-RapidAPI-Key\": \"d60b547ecbmshfef17f77d83986cp115e1ajsne03176a7f3a6\",\n",
    "\t\"X-RapidAPI-Host\": \"ali-express1.p.rapidapi.com\"\n",
    "}\n",
    "\n",
    "response = requests.request(\"GET\", url, headers=headers, params=querystring)\n",
    "\n",
    "mshoes_json = response.json()"
   ]
  },
  {
   "cell_type": "code",
   "execution_count": null,
   "id": "776c6c3e",
   "metadata": {},
   "outputs": [],
   "source": [
    "mshoes_df = pd.DataFrame(mshoes_json)"
   ]
  },
  {
   "cell_type": "code",
   "execution_count": null,
   "id": "27367e9b",
   "metadata": {},
   "outputs": [
    {
     "data": {
      "text/html": [
       "<div>\n",
       "<style scoped>\n",
       "    .dataframe tbody tr th:only-of-type {\n",
       "        vertical-align: middle;\n",
       "    }\n",
       "\n",
       "    .dataframe tbody tr th {\n",
       "        vertical-align: top;\n",
       "    }\n",
       "\n",
       "    .dataframe thead th {\n",
       "        text-align: right;\n",
       "    }\n",
       "</style>\n",
       "<table border=\"1\" class=\"dataframe\">\n",
       "  <thead>\n",
       "    <tr style=\"text-align: right;\">\n",
       "      <th></th>\n",
       "      <th>code</th>\n",
       "      <th>cost</th>\n",
       "      <th>success</th>\n",
       "      <th>data.abVersion</th>\n",
       "      <th>data.crawler</th>\n",
       "      <th>data.searchResult.mods.searchRapidFilters.content</th>\n",
       "      <th>data.searchResult.mods.searchRefineFilters.content</th>\n",
       "      <th>data.searchResult.mods.sortBar.tItemType</th>\n",
       "      <th>data.searchResult.mods.sortBar.content</th>\n",
       "      <th>data.searchResult.mods.itemList.content</th>\n",
       "      <th>...</th>\n",
       "      <th>data.searchResult.modsStyle.image.small_gap</th>\n",
       "      <th>data.searchResult.modsStyle.prices.decimal_point</th>\n",
       "      <th>data.searchResult.modsStyle.prices.comma_style</th>\n",
       "      <th>data.searchResult.modsStyle.prices.symbol_position</th>\n",
       "      <th>data.searchResult._host</th>\n",
       "      <th>data.searchResult.scm</th>\n",
       "      <th>data.searchResult.version</th>\n",
       "      <th>data.searchResult.srpResult</th>\n",
       "      <th>data.searchResult.tpp_trace</th>\n",
       "      <th>data.trafficChannel</th>\n",
       "    </tr>\n",
       "  </thead>\n",
       "  <tbody>\n",
       "    <tr>\n",
       "      <th>0</th>\n",
       "      <td>200</td>\n",
       "      <td>537</td>\n",
       "      <td>True</td>\n",
       "      <td>1</td>\n",
       "      <td>False</td>\n",
       "      <td>[{'paramType': 'List', 'rapidTiling': True, 'i...</td>\n",
       "      <td>[{'paramType': 'String', 'rapidTiling': False,...</td>\n",
       "      <td>nt_mainsearch_sortbar</td>\n",
       "      <td>[{'sortOrders': [{'selected': True, 'order': '...</td>\n",
       "      <td>[{'image': {'imgUrl': '//ae04.alicdn.com/kf/S7...</td>\n",
       "      <td>...</td>\n",
       "      <td>2</td>\n",
       "      <td>.</td>\n",
       "      <td>,</td>\n",
       "      <td>left</td>\n",
       "      <td>hippo.033003002073.us68</td>\n",
       "      <td>1007.28539.297875.0</td>\n",
       "      <td>1.0</td>\n",
       "      <td>[20]</td>\n",
       "      <td>2101e9cf16686296505721657ea0cf</td>\n",
       "      <td>main</td>\n",
       "    </tr>\n",
       "  </tbody>\n",
       "</table>\n",
       "<p>1 rows × 72 columns</p>\n",
       "</div>"
      ],
      "text/plain": [
       "   code  cost  success data.abVersion  data.crawler  \\\n",
       "0   200   537     True              1         False   \n",
       "\n",
       "   data.searchResult.mods.searchRapidFilters.content  \\\n",
       "0  [{'paramType': 'List', 'rapidTiling': True, 'i...   \n",
       "\n",
       "  data.searchResult.mods.searchRefineFilters.content  \\\n",
       "0  [{'paramType': 'String', 'rapidTiling': False,...   \n",
       "\n",
       "  data.searchResult.mods.sortBar.tItemType  \\\n",
       "0                    nt_mainsearch_sortbar   \n",
       "\n",
       "              data.searchResult.mods.sortBar.content  \\\n",
       "0  [{'sortOrders': [{'selected': True, 'order': '...   \n",
       "\n",
       "             data.searchResult.mods.itemList.content  ...  \\\n",
       "0  [{'image': {'imgUrl': '//ae04.alicdn.com/kf/S7...  ...   \n",
       "\n",
       "   data.searchResult.modsStyle.image.small_gap  \\\n",
       "0                                            2   \n",
       "\n",
       "  data.searchResult.modsStyle.prices.decimal_point  \\\n",
       "0                                                .   \n",
       "\n",
       "  data.searchResult.modsStyle.prices.comma_style  \\\n",
       "0                                              ,   \n",
       "\n",
       "   data.searchResult.modsStyle.prices.symbol_position  \\\n",
       "0                                               left    \n",
       "\n",
       "   data.searchResult._host data.searchResult.scm  data.searchResult.version  \\\n",
       "0  hippo.033003002073.us68   1007.28539.297875.0                        1.0   \n",
       "\n",
       "   data.searchResult.srpResult     data.searchResult.tpp_trace  \\\n",
       "0                         [20]  2101e9cf16686296505721657ea0cf   \n",
       "\n",
       "  data.trafficChannel  \n",
       "0                main  \n",
       "\n",
       "[1 rows x 72 columns]"
      ]
     },
     "execution_count": 158,
     "metadata": {},
     "output_type": "execute_result"
    }
   ],
   "source": [
    "mshoes_df = pd.json_normalize(mshoes_json)\n",
    "mshoes_df"
   ]
  },
  {
   "cell_type": "code",
   "execution_count": null,
   "id": "f194adcc",
   "metadata": {},
   "outputs": [
    {
     "data": {
      "text/html": [
       "<div>\n",
       "<style scoped>\n",
       "    .dataframe tbody tr th:only-of-type {\n",
       "        vertical-align: middle;\n",
       "    }\n",
       "\n",
       "    .dataframe tbody tr th {\n",
       "        vertical-align: top;\n",
       "    }\n",
       "\n",
       "    .dataframe thead th {\n",
       "        text-align: right;\n",
       "    }\n",
       "</style>\n",
       "<table border=\"1\" class=\"dataframe\">\n",
       "  <thead>\n",
       "    <tr style=\"text-align: right;\">\n",
       "      <th></th>\n",
       "      <th>data.searchResult.mods.itemList.content</th>\n",
       "    </tr>\n",
       "  </thead>\n",
       "  <tbody>\n",
       "    <tr>\n",
       "      <th>0</th>\n",
       "      <td>[{'image': {'imgUrl': 'https://ae04.alicdn.com...</td>\n",
       "    </tr>\n",
       "  </tbody>\n",
       "</table>\n",
       "</div>"
      ],
      "text/plain": [
       "             data.searchResult.mods.itemList.content\n",
       "0  [{'image': {'imgUrl': 'https://ae04.alicdn.com..."
      ]
     },
     "execution_count": 159,
     "metadata": {},
     "output_type": "execute_result"
    }
   ],
   "source": [
    "mshoes_df = df[['data.searchResult.mods.itemList.content']]\n",
    "mshoes_df"
   ]
  },
  {
   "cell_type": "code",
   "execution_count": null,
   "id": "8fdd7836",
   "metadata": {},
   "outputs": [
    {
     "name": "stdout",
     "output_type": "stream",
     "text": [
      "3256803290146743\n"
     ]
    }
   ],
   "source": [
    "mshoes_productId = ((mshoes_df[\"data.searchResult.mods.itemList.content\"].values[0][0]['productId']))\n",
    "\n",
    "\n",
    "mshoes_productId_list = []\n",
    "\n",
    "\n",
    "for i in range (20):\n",
    "    each_value = ((mshoes_df[\"data.searchResult.mods.itemList.content\"].values[0][i]['productId']))\n",
    "    \n",
    "    mshoes_productId_list.append(each_value)\n",
    "\n",
    "print(mshoes_productId)\n",
    "\n"
   ]
  },
  {
   "cell_type": "code",
   "execution_count": null,
   "id": "b808acb8",
   "metadata": {},
   "outputs": [
    {
     "name": "stdout",
     "output_type": "stream",
     "text": [
      "[]\n"
     ]
    }
   ],
   "source": [
    "mshoes_title = ((mshoes_df[\"data.searchResult.mods.itemList.content\"].values[0][0]['title']))\n",
    "\n",
    "mshoes_title_list = []\n",
    "\n",
    "for i in range (20):\n",
    "    each_value = ((mshoes_df[\"data.searchResult.mods.itemList.content\"].values[0][i]['title']['displayTitle']))\n",
    "    wflats_title_list.append(each_value)\n",
    "\n",
    "print(mshoes_title_list)\n"
   ]
  },
  {
   "cell_type": "markdown",
   "id": "082b432c",
   "metadata": {},
   "source": [
    "## Combine All Categories"
   ]
  },
  {
   "cell_type": "code",
   "execution_count": null,
   "id": "6093f43e",
   "metadata": {},
   "outputs": [],
   "source": [
    "data = np.array([[3256802423567155,\n",
    " 3256803147612333,\n",
    " 3256803313822268,\n",
    " 3256803613454020,\n",
    " 3256804146039143,\n",
    " 3256804273010958,\n",
    " 3256804288091339,\n",
    " 3256804340338295,\n",
    " 3256804374631137,\n",
    " 3256804549567127,\n",
    " 3256804564507961,\n",
    " 3256804598834886,\n",
    " 3256804600087452,\n",
    " 3256804603507576,\n",
    " 3256804606583693,\n",
    " 3256804627451745,\n",
    " 3256804679939115,\n",
    " 3256804683170661,\n",
    " 3256804697787771,\n",
    " 3256804718617801], \n",
    "[3256803899670216,\n",
    " 3256803910990175,\n",
    " 3256804274369718,\n",
    " 3256804288091339,\n",
    " 3256804339852643,\n",
    " 3256804374631137,\n",
    " 3256804390450457,\n",
    " 3256804419670610,\n",
    " 3256804465546586,\n",
    " 3256804536446371,\n",
    " 3256804549567127,\n",
    " 3256804603507576,\n",
    " 3256804635290857,\n",
    " 3256804676604636,\n",
    " 3256804696130563,\n",
    " 3256804698461319,\n",
    " 3256804706160135,\n",
    " 3256804710640068,\n",
    " 3256804718617801,\n",
    " 3256804728034603],\n",
    "[3256802423567155,\n",
    " 3256803290146743,\n",
    " 3256803298586233,\n",
    " 3256803305179821,\n",
    " 3256803443967583,\n",
    " 3256803448034929,\n",
    " 3256803613454020,\n",
    " 3256803636531347,\n",
    " 3256803958419735,\n",
    " 3256804096886433,\n",
    " 3256804146965002,\n",
    " 3256804520151422,\n",
    " 3256804538602358,\n",
    " 3256804583276496,\n",
    " 3256804627451745,\n",
    " 3256804679939115,\n",
    " 3256804680467020,\n",
    " 3256804683170661,\n",
    " 3256804683702066,\n",
    " 3256804697787771],\n",
    "[2255800565385191,\n",
    " 3256803193913624,\n",
    " 3256803288474366,\n",
    " 3256803380552863,\n",
    " 3256803456568863,\n",
    " 3256803852328051,\n",
    " 3256804288946512,\n",
    " 3256804345871208,\n",
    " 3256804389102849,\n",
    " 3256804398579682,\n",
    " 3256804399002172,\n",
    " 3256804456692695,\n",
    " 3256804548714244,\n",
    " 3256804558295955,\n",
    " 3256804564507961,\n",
    " 3256804588660403,\n",
    " 3256804602698717,\n",
    " 3256804622918647,\n",
    " 3256804704992185,\n",
    " 3256804705540267]])\n",
    "\n",
    "dataset = pd.DataFrame({'Womens Shoes': data[0], 'Womens Boots': data[1], 'Women Flats': data[2], 'Mens Shoes': data[3]})\n",
    "print(dataset)\n"
   ]
  },
  {
   "cell_type": "code",
   "execution_count": null,
   "id": "1b920b88",
   "metadata": {},
   "outputs": [],
   "source": [
    "df = pd.DataFrame(dataset)\n",
    "df"
   ]
  },
  {
   "cell_type": "code",
   "execution_count": null,
   "id": "53a77890",
   "metadata": {},
   "outputs": [],
   "source": [
    "df.to_csv(index=False)\n",
    "\n",
    "compression_opts = dict(method='zip', archive_name='productIds_bycategory.csv')  \n",
    "df.to_csv('productIds_bycategory.zip', index=False, compression=compression_opts) \n",
    "\n",
    "from pathlib import Path  \n",
    "filepath = Path('productIds_bycategory.csv')  \n",
    "filepath.parent.mkdir(parents=True, exist_ok=True)  \n",
    "df.to_csv(filepath)  "
   ]
  },
  {
   "cell_type": "markdown",
   "id": "761e97c0",
   "metadata": {},
   "source": [
    "## Creating Product Feedback Database\n",
    "### Plug in product IDs to compile and compare feedback within and between categories \n",
    "#### Keys to compare: \"data.evaViewList.[0].buyerFeedback\",  \"data.evaViewList.[0].images\", \"data.productEvaluationStatistic.\""
   ]
  },
  {
   "cell_type": "code",
   "execution_count": null,
   "id": "0c3afe78",
   "metadata": {},
   "outputs": [],
   "source": [
    "url = \"https://ali-express1.p.rapidapi.com/product/3256802423567155/feedback/\"\n",
    "\n",
    "querystring = {\"country\":\"us\",\"page\":\"1\",\"type\":\"all\"}\n",
    "\n",
    "headers = {\n",
    "\t\"X-RapidAPI-Key\": \"d60b547ecbmshfef17f77d83986cp115e1ajsne03176a7f3a6\",\n",
    "\t\"X-RapidAPI-Host\": \"ali-express1.p.rapidapi.com\"\n",
    "}\n",
    "\n",
    "response = requests.request(\"GET\", url, headers=headers, params=querystring)\n",
    "json = response.json()"
   ]
  },
  {
   "cell_type": "code",
   "execution_count": null,
   "id": "9503ccbd",
   "metadata": {},
   "outputs": [],
   "source": [
    "df = pd.DataFrame(json)"
   ]
  },
  {
   "cell_type": "code",
   "execution_count": null,
   "id": "1dcd18eb",
   "metadata": {},
   "outputs": [],
   "source": [
    "df.to_csv(index=False)\n",
    "\n",
    "compression_opts = dict(method='zip', archive_name='out.csv')  \n",
    "df.to_csv('out.zip', index=False, compression=compression_opts) \n",
    "\n",
    "from pathlib import Path  \n",
    "filepath = Path('out.csv')  \n",
    "filepath.parent.mkdir(parents=True, exist_ok=True)  \n",
    "df.to_csv(filepath)  \n",
    "\n",
    "# set path to file\n",
    "p = Path('out.csv')\n",
    "\n",
    "# read json\n",
    "with p.open('r', encoding='utf-8') as f:\n",
    "    data = json\n",
    "\n",
    "# create dataframe\n",
    "df = pd.json_normalize(data)\n",
    "df"
   ]
  },
  {
   "cell_type": "code",
   "execution_count": null,
   "id": "d468c801",
   "metadata": {},
   "outputs": [
    {
     "ename": "KeyError",
     "evalue": "\"None of [Index(['data.evaViewList', 'data.productEvaluationStatistic.evarageStar',\\n       'data.productEvaluationStatistic.evarageStarRage',\\n       'data.productEvaluationStatistic.fiveStarNum',\\n       'data.productEvaluationStatistic.fiveStarRate',\\n       'data.productEvaluationStatistic.fourStarNum',\\n       'data.productEvaluationStatistic.fourStarRate',\\n       'data.productEvaluationStatistic.negativeNum',\\n       'data.productEvaluationStatistic.negativeRate',\\n       'data.productEvaluationStatistic.neutralNum',\\n       'data.productEvaluationStatistic.neutralRate',\\n       'data.productEvaluationStatistic.oneStarNum',\\n       'data.productEvaluationStatistic.oneStarRate',\\n       'data.productEvaluationStatistic.positiveNum',\\n       'data.productEvaluationStatistic.positiveRate',\\n       'data.productEvaluationStatistic.threeStarNum',\\n       'data.productEvaluationStatistic.threeStarRate',\\n       'data.productEvaluationStatistic.totalNum',\\n       'data.productEvaluationStatistic.twoStarNum',\\n       'data.productEvaluationStatistic.twoStarRate'],\\n      dtype='object')] are in the [columns]\"",
     "output_type": "error",
     "traceback": [
      "\u001b[1;31m---------------------------------------------------------------------------\u001b[0m",
      "\u001b[1;31mKeyError\u001b[0m                                  Traceback (most recent call last)",
      "\u001b[1;32m~\\AppData\\Local\\Temp\\ipykernel_49728\\2511738643.py\u001b[0m in \u001b[0;36m<module>\u001b[1;34m\u001b[0m\n\u001b[0;32m     18\u001b[0m \u001b[1;34m'data.productEvaluationStatistic.totalNum'\u001b[0m\u001b[1;33m,\u001b[0m\u001b[1;33m\u001b[0m\u001b[1;33m\u001b[0m\u001b[0m\n\u001b[0;32m     19\u001b[0m \u001b[1;34m'data.productEvaluationStatistic.twoStarNum'\u001b[0m\u001b[1;33m,\u001b[0m\u001b[1;33m\u001b[0m\u001b[1;33m\u001b[0m\u001b[0m\n\u001b[1;32m---> 20\u001b[1;33m 'data.productEvaluationStatistic.twoStarRate',]]\n\u001b[0m\u001b[0;32m     21\u001b[0m \u001b[1;33m\u001b[0m\u001b[0m\n\u001b[0;32m     22\u001b[0m \u001b[0mdf\u001b[0m\u001b[1;33m\u001b[0m\u001b[1;33m\u001b[0m\u001b[0m\n",
      "\u001b[1;32mc:\\Users\\sears\\anaconda3\\envs\\PythonData\\lib\\site-packages\\pandas\\core\\frame.py\u001b[0m in \u001b[0;36m__getitem__\u001b[1;34m(self, key)\u001b[0m\n\u001b[0;32m   3462\u001b[0m             \u001b[1;32mif\u001b[0m \u001b[0mis_iterator\u001b[0m\u001b[1;33m(\u001b[0m\u001b[0mkey\u001b[0m\u001b[1;33m)\u001b[0m\u001b[1;33m:\u001b[0m\u001b[1;33m\u001b[0m\u001b[1;33m\u001b[0m\u001b[0m\n\u001b[0;32m   3463\u001b[0m                 \u001b[0mkey\u001b[0m \u001b[1;33m=\u001b[0m \u001b[0mlist\u001b[0m\u001b[1;33m(\u001b[0m\u001b[0mkey\u001b[0m\u001b[1;33m)\u001b[0m\u001b[1;33m\u001b[0m\u001b[1;33m\u001b[0m\u001b[0m\n\u001b[1;32m-> 3464\u001b[1;33m             \u001b[0mindexer\u001b[0m \u001b[1;33m=\u001b[0m \u001b[0mself\u001b[0m\u001b[1;33m.\u001b[0m\u001b[0mloc\u001b[0m\u001b[1;33m.\u001b[0m\u001b[0m_get_listlike_indexer\u001b[0m\u001b[1;33m(\u001b[0m\u001b[0mkey\u001b[0m\u001b[1;33m,\u001b[0m \u001b[0maxis\u001b[0m\u001b[1;33m=\u001b[0m\u001b[1;36m1\u001b[0m\u001b[1;33m)\u001b[0m\u001b[1;33m[\u001b[0m\u001b[1;36m1\u001b[0m\u001b[1;33m]\u001b[0m\u001b[1;33m\u001b[0m\u001b[1;33m\u001b[0m\u001b[0m\n\u001b[0m\u001b[0;32m   3465\u001b[0m \u001b[1;33m\u001b[0m\u001b[0m\n\u001b[0;32m   3466\u001b[0m         \u001b[1;31m# take() does not accept boolean indexers\u001b[0m\u001b[1;33m\u001b[0m\u001b[1;33m\u001b[0m\u001b[1;33m\u001b[0m\u001b[0m\n",
      "\u001b[1;32mc:\\Users\\sears\\anaconda3\\envs\\PythonData\\lib\\site-packages\\pandas\\core\\indexing.py\u001b[0m in \u001b[0;36m_get_listlike_indexer\u001b[1;34m(self, key, axis)\u001b[0m\n\u001b[0;32m   1312\u001b[0m             \u001b[0mkeyarr\u001b[0m\u001b[1;33m,\u001b[0m \u001b[0mindexer\u001b[0m\u001b[1;33m,\u001b[0m \u001b[0mnew_indexer\u001b[0m \u001b[1;33m=\u001b[0m \u001b[0max\u001b[0m\u001b[1;33m.\u001b[0m\u001b[0m_reindex_non_unique\u001b[0m\u001b[1;33m(\u001b[0m\u001b[0mkeyarr\u001b[0m\u001b[1;33m)\u001b[0m\u001b[1;33m\u001b[0m\u001b[1;33m\u001b[0m\u001b[0m\n\u001b[0;32m   1313\u001b[0m \u001b[1;33m\u001b[0m\u001b[0m\n\u001b[1;32m-> 1314\u001b[1;33m         \u001b[0mself\u001b[0m\u001b[1;33m.\u001b[0m\u001b[0m_validate_read_indexer\u001b[0m\u001b[1;33m(\u001b[0m\u001b[0mkeyarr\u001b[0m\u001b[1;33m,\u001b[0m \u001b[0mindexer\u001b[0m\u001b[1;33m,\u001b[0m \u001b[0maxis\u001b[0m\u001b[1;33m)\u001b[0m\u001b[1;33m\u001b[0m\u001b[1;33m\u001b[0m\u001b[0m\n\u001b[0m\u001b[0;32m   1315\u001b[0m \u001b[1;33m\u001b[0m\u001b[0m\n\u001b[0;32m   1316\u001b[0m         if needs_i8_conversion(ax.dtype) or isinstance(\n",
      "\u001b[1;32mc:\\Users\\sears\\anaconda3\\envs\\PythonData\\lib\\site-packages\\pandas\\core\\indexing.py\u001b[0m in \u001b[0;36m_validate_read_indexer\u001b[1;34m(self, key, indexer, axis)\u001b[0m\n\u001b[0;32m   1372\u001b[0m                 \u001b[1;32mif\u001b[0m \u001b[0muse_interval_msg\u001b[0m\u001b[1;33m:\u001b[0m\u001b[1;33m\u001b[0m\u001b[1;33m\u001b[0m\u001b[0m\n\u001b[0;32m   1373\u001b[0m                     \u001b[0mkey\u001b[0m \u001b[1;33m=\u001b[0m \u001b[0mlist\u001b[0m\u001b[1;33m(\u001b[0m\u001b[0mkey\u001b[0m\u001b[1;33m)\u001b[0m\u001b[1;33m\u001b[0m\u001b[1;33m\u001b[0m\u001b[0m\n\u001b[1;32m-> 1374\u001b[1;33m                 \u001b[1;32mraise\u001b[0m \u001b[0mKeyError\u001b[0m\u001b[1;33m(\u001b[0m\u001b[1;34mf\"None of [{key}] are in the [{axis_name}]\"\u001b[0m\u001b[1;33m)\u001b[0m\u001b[1;33m\u001b[0m\u001b[1;33m\u001b[0m\u001b[0m\n\u001b[0m\u001b[0;32m   1375\u001b[0m \u001b[1;33m\u001b[0m\u001b[0m\n\u001b[0;32m   1376\u001b[0m             \u001b[0mnot_found\u001b[0m \u001b[1;33m=\u001b[0m \u001b[0mlist\u001b[0m\u001b[1;33m(\u001b[0m\u001b[0mensure_index\u001b[0m\u001b[1;33m(\u001b[0m\u001b[0mkey\u001b[0m\u001b[1;33m)\u001b[0m\u001b[1;33m[\u001b[0m\u001b[0mmissing_mask\u001b[0m\u001b[1;33m.\u001b[0m\u001b[0mnonzero\u001b[0m\u001b[1;33m(\u001b[0m\u001b[1;33m)\u001b[0m\u001b[1;33m[\u001b[0m\u001b[1;36m0\u001b[0m\u001b[1;33m]\u001b[0m\u001b[1;33m]\u001b[0m\u001b[1;33m.\u001b[0m\u001b[0munique\u001b[0m\u001b[1;33m(\u001b[0m\u001b[1;33m)\u001b[0m\u001b[1;33m)\u001b[0m\u001b[1;33m\u001b[0m\u001b[1;33m\u001b[0m\u001b[0m\n",
      "\u001b[1;31mKeyError\u001b[0m: \"None of [Index(['data.evaViewList', 'data.productEvaluationStatistic.evarageStar',\\n       'data.productEvaluationStatistic.evarageStarRage',\\n       'data.productEvaluationStatistic.fiveStarNum',\\n       'data.productEvaluationStatistic.fiveStarRate',\\n       'data.productEvaluationStatistic.fourStarNum',\\n       'data.productEvaluationStatistic.fourStarRate',\\n       'data.productEvaluationStatistic.negativeNum',\\n       'data.productEvaluationStatistic.negativeRate',\\n       'data.productEvaluationStatistic.neutralNum',\\n       'data.productEvaluationStatistic.neutralRate',\\n       'data.productEvaluationStatistic.oneStarNum',\\n       'data.productEvaluationStatistic.oneStarRate',\\n       'data.productEvaluationStatistic.positiveNum',\\n       'data.productEvaluationStatistic.positiveRate',\\n       'data.productEvaluationStatistic.threeStarNum',\\n       'data.productEvaluationStatistic.threeStarRate',\\n       'data.productEvaluationStatistic.totalNum',\\n       'data.productEvaluationStatistic.twoStarNum',\\n       'data.productEvaluationStatistic.twoStarRate'],\\n      dtype='object')] are in the [columns]\""
     ]
    }
   ],
   "source": [
    "df = df[['data.evaViewList',\n",
    "'data.productEvaluationStatistic.evarageStar',\n",
    "'data.productEvaluationStatistic.evarageStarRage',\n",
    "'data.productEvaluationStatistic.fiveStarNum',\n",
    "'data.productEvaluationStatistic.fiveStarRate',\n",
    "'data.productEvaluationStatistic.fourStarNum',\n",
    "'data.productEvaluationStatistic.fourStarRate',\n",
    "'data.productEvaluationStatistic.negativeNum',\n",
    "'data.productEvaluationStatistic.negativeRate',\n",
    "'data.productEvaluationStatistic.neutralNum',\n",
    "'data.productEvaluationStatistic.neutralRate',\n",
    "'data.productEvaluationStatistic.oneStarNum',\n",
    "'data.productEvaluationStatistic.oneStarRate',\n",
    "'data.productEvaluationStatistic.positiveNum',\n",
    "'data.productEvaluationStatistic.positiveRate',\n",
    "'data.productEvaluationStatistic.threeStarNum',\n",
    "'data.productEvaluationStatistic.threeStarRate',\n",
    "'data.productEvaluationStatistic.totalNum',\n",
    "'data.productEvaluationStatistic.twoStarNum',\n",
    "'data.productEvaluationStatistic.twoStarRate',]]\n",
    "        \n",
    "df"
   ]
  },
  {
   "cell_type": "code",
   "execution_count": null,
   "id": "d590d2d8",
   "metadata": {},
   "outputs": [],
   "source": [
    "print((df[\"data.evaViewList\"].values[0][0]['buyerFeedback']))"
   ]
  },
  {
   "cell_type": "code",
   "execution_count": null,
   "id": "32ce5149",
   "metadata": {},
   "outputs": [],
   "source": [
    "print((df[\"data.evaViewList\"].values[0][0]['images']))"
   ]
  },
  {
   "cell_type": "markdown",
   "id": "6b45dd35",
   "metadata": {},
   "source": [
    "### Ended up pasting feedback results per product id into csv files for each category"
   ]
  },
  {
   "cell_type": "code",
   "execution_count": null,
   "id": "6a93aa5e",
   "metadata": {},
   "outputs": [],
   "source": [
    "# df.to_excel(\"output.xlsx\",\n",
    "#              sheet_name='Sheet_name_1')  "
   ]
  },
  {
   "cell_type": "markdown",
   "id": "9484f62d",
   "metadata": {},
   "source": [
    " ## Product IDs"
   ]
  },
  {
   "cell_type": "code",
   "execution_count": null,
   "id": "a0f5a02e",
   "metadata": {},
   "outputs": [],
   "source": [
    " \n",
    "    Womens Shoes      Womens Boots       Women Flats        Mens Shoes\n",
    "0   3256802423567155  3256803899670216  3256802423567155  2255800565385191\n",
    "1   3256803147612333  3256803910990175  3256803290146743  3256803193913624\n",
    "2   3256803313822268  3256804274369718  3256803298586233  3256803288474366\n",
    "3   3256803613454020  3256804288091339  3256803305179821  3256803380552863\n",
    "4   3256804146039143  3256804339852643  3256803443967583  3256803456568863\n",
    "5   3256804273010958  3256804374631137  3256803448034929  3256803852328051\n",
    "6   3256804288091339  3256804390450457  3256803613454020  3256804288946512\n",
    "7   3256804340338295  3256804419670610  3256803636531347  3256804345871208\n",
    "8   3256804374631137  3256804465546586  3256803958419735  3256804389102849\n",
    "9   3256804549567127  3256804536446371  3256804096886433  3256804398579682\n",
    "10  3256804564507961  3256804549567127  3256804146965002  3256804399002172\n",
    "11  3256804598834886  3256804603507576  3256804520151422  3256804456692695\n",
    "12  3256804600087452  3256804635290857  3256804538602358  3256804548714244\n",
    "13  3256804603507576  3256804676604636  3256804583276496  3256804558295955\n",
    "14  3256804606583693  3256804696130563  3256804627451745  3256804564507961\n",
    "15  3256804627451745  3256804698461319  3256804679939115  3256804588660403\n",
    "16  3256804679939115  3256804706160135  3256804680467020  3256804602698717\n",
    "17  3256804683170661  3256804710640068  3256804683170661  3256804622918647\n",
    "18  3256804697787771  3256804718617801  3256804683702066  3256804704992185\n",
    "19  3256804718617801  3256804728034603  3256804697787771  3256804705540267"
   ]
  },
  {
   "cell_type": "code",
   "execution_count": null,
   "id": "4ddd16d6",
   "metadata": {},
   "outputs": [],
   "source": [
    "# my_list = df.columns.values.tolist()\n",
    "# my_list"
   ]
  },
  {
   "cell_type": "code",
   "execution_count": null,
   "id": "607e39b7",
   "metadata": {},
   "outputs": [],
   "source": []
  }
 ],
 "metadata": {
  "kernelspec": {
   "display_name": "PythonData",
   "language": "python",
   "name": "pythondata"
  },
  "language_info": {
   "codemirror_mode": {
    "name": "ipython",
    "version": 3
   },
   "file_extension": ".py",
   "mimetype": "text/x-python",
   "name": "python",
   "nbconvert_exporter": "python",
   "pygments_lexer": "ipython3",
   "version": "3.7.13"
  }
 },
 "nbformat": 4,
 "nbformat_minor": 5
}
