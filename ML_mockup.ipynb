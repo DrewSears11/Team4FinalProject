{
  "nbformat": 4,
  "nbformat_minor": 0,
  "metadata": {
    "colab": {
      "provenance": []
    },
    "kernelspec": {
      "name": "python3",
      "display_name": "Python 3"
    },
    "language_info": {
      "name": "python"
    }
  },
  "cells": [
    {
      "cell_type": "code",
      "execution_count": null,
      "metadata": {
        "id": "yRov9QV02JGK",
        "colab": {
          "base_uri": "https://localhost:8080/"
        },
        "outputId": "cd7d3719-1fd5-423e-c8bc-caafdbb0a40d"
      },
      "outputs": [
        {
          "output_type": "stream",
          "name": "stdout",
          "text": [
            "\r0% [Working]\r            \rGet:1 http://security.ubuntu.com/ubuntu bionic-security InRelease [88.7 kB]\n",
            "\r0% [Connecting to archive.ubuntu.com] [1 InRelease 14.2 kB/88.7 kB 16%] [Waitin\r                                                                               \rGet:2 https://cloud.r-project.org/bin/linux/ubuntu bionic-cran40/ InRelease [3,626 B]\n",
            "\r0% [Connecting to archive.ubuntu.com] [1 InRelease 14.2 kB/88.7 kB 16%] [2 InRe\r0% [Connecting to archive.ubuntu.com] [1 InRelease 14.2 kB/88.7 kB 16%] [Waitin\r0% [2 InRelease gpgv 3,626 B] [Connecting to archive.ubuntu.com] [1 InRelease 1\r                                                                               \rIgn:3 https://developer.download.nvidia.com/compute/machine-learning/repos/ubuntu1804/x86_64  InRelease\n",
            "\r0% [2 InRelease gpgv 3,626 B] [Waiting for headers] [1 InRelease 51.8 kB/88.7 k\r                                                                               \rHit:4 https://developer.download.nvidia.com/compute/cuda/repos/ubuntu1804/x86_64  InRelease\n",
            "\r0% [2 InRelease gpgv 3,626 B] [Waiting for headers] [1 InRelease 63.4 kB/88.7 k\r                                                                               \rHit:5 http://archive.ubuntu.com/ubuntu bionic InRelease\n",
            "\r0% [2 InRelease gpgv 3,626 B] [Waiting for headers] [1 InRelease 75.0 kB/88.7 k\r                                                                               \rHit:6 https://developer.download.nvidia.com/compute/machine-learning/repos/ubuntu1804/x86_64  Release\n",
            "Get:7 http://archive.ubuntu.com/ubuntu bionic-updates InRelease [88.7 kB]\n",
            "Get:8 http://ppa.launchpad.net/c2d4u.team/c2d4u4.0+/ubuntu bionic InRelease [15.9 kB]\n",
            "Get:9 http://archive.ubuntu.com/ubuntu bionic-backports InRelease [83.3 kB]\n",
            "Get:10 https://cloud.r-project.org/bin/linux/ubuntu bionic-cran40/ Packages [101 kB]\n",
            "Hit:11 http://ppa.launchpad.net/cran/libgit2/ubuntu bionic InRelease\n",
            "Hit:12 http://ppa.launchpad.net/deadsnakes/ppa/ubuntu bionic InRelease\n",
            "Hit:13 http://ppa.launchpad.net/graphics-drivers/ppa/ubuntu bionic InRelease\n",
            "Get:15 http://archive.ubuntu.com/ubuntu bionic-updates/main amd64 Packages [3,472 kB]\n",
            "Get:16 http://ppa.launchpad.net/c2d4u.team/c2d4u4.0+/ubuntu bionic/main Sources [2,218 kB]\n",
            "Get:17 http://ppa.launchpad.net/c2d4u.team/c2d4u4.0+/ubuntu bionic/main amd64 Packages [1,135 kB]\n",
            "Fetched 7,207 kB in 5s (1,331 kB/s)\n",
            "Reading package lists... Done\n"
          ]
        }
      ],
      "source": [
        "import os\n",
        "# Find the latest version of spark 3.0 from http://www.apache.org/dist/spark/ and enter as the spark version\n",
        "# For example:\n",
        "# spark_version = 'spark-3.3.0'\n",
        "spark_version = 'spark-3.3.1'\n",
        "os.environ['SPARK_VERSION']=spark_version\n",
        "\n",
        "# Install Spark and Java\n",
        "!apt-get update\n",
        "!apt-get install openjdk-11-jdk-headless -qq > /dev/null\n",
        "!wget -q http://www.apache.org/dist/spark/$SPARK_VERSION/$SPARK_VERSION-bin-hadoop3.tgz\n",
        "!tar xf $SPARK_VERSION-bin-hadoop3.tgz\n",
        "!pip install -q findspark\n",
        "\n",
        "# Set Environment Variables\n",
        "import os\n",
        "os.environ[\"JAVA_HOME\"] = \"/usr/lib/jvm/java-11-openjdk-amd64\"\n",
        "os.environ[\"SPARK_HOME\"] = f\"/content/{spark_version}-bin-hadoop3\"\n",
        "\n",
        "# Start a SparkSession\n",
        "import findspark\n",
        "findspark.init()"
      ]
    },
    {
      "cell_type": "code",
      "source": [
        "# Download the Postgres driver that will allow Spark to interact with Postgres.\n",
        "!wget https://jdbc.postgresql.org/download/postgresql-42.2.16.jar"
      ],
      "metadata": {
        "colab": {
          "base_uri": "https://localhost:8080/"
        },
        "id": "Iiqa8C-t5Ujm",
        "outputId": "7abd3fb1-efc7-4fdc-c637-89db8f6ecd5b"
      },
      "execution_count": null,
      "outputs": [
        {
          "output_type": "stream",
          "name": "stdout",
          "text": [
            "--2022-11-15 02:07:44--  https://jdbc.postgresql.org/download/postgresql-42.2.16.jar\n",
            "Resolving jdbc.postgresql.org (jdbc.postgresql.org)... 72.32.157.228, 2001:4800:3e1:1::228\n",
            "Connecting to jdbc.postgresql.org (jdbc.postgresql.org)|72.32.157.228|:443... connected.\n",
            "HTTP request sent, awaiting response... 200 OK\n",
            "Length: 1002883 (979K) [application/java-archive]\n",
            "Saving to: ‘postgresql-42.2.16.jar.1’\n",
            "\n",
            "postgresql-42.2.16. 100%[===================>] 979.38K  6.32MB/s    in 0.2s    \n",
            "\n",
            "2022-11-15 02:07:44 (6.32 MB/s) - ‘postgresql-42.2.16.jar.1’ saved [1002883/1002883]\n",
            "\n"
          ]
        }
      ]
    },
    {
      "cell_type": "code",
      "source": [
        "# Start Spark session\n",
        "from pyspark.sql import SparkSession\n",
        "spark = SparkSession.builder.appName(\"Team4FinalProject\").config(\"spark.driver.extraClassPath\",\"/content/postgresql-42.2.16.jar\").getOrCreate()"
      ],
      "metadata": {
        "id": "9Nv8jsnG4sUh"
      },
      "execution_count": null,
      "outputs": []
    },
    {
      "cell_type": "markdown",
      "source": [
        "Data Pipeline"
      ],
      "metadata": {
        "id": "aGcyLhOP5LgC"
      }
    },
    {
      "cell_type": "code",
      "source": [
        "# Read in data from S3 Buckets\n",
        "from pyspark import SparkFiles\n",
        "url =\"https://team4aliexpress.s3.amazonaws.com/wshoes_productfeedback.csv\"\n",
        "spark.sparkContext.addFile(url)\n",
        "\n",
        "df = spark.read.option(\"encoding\", \"UTF-8\").csv(SparkFiles.get(\"wshoes_productfeedback.csv\"), sep=\",\", header=True, inferSchema=True)\n",
        "\n",
        "\n"
      ],
      "metadata": {
        "id": "bnZtF4rt41Kv"
      },
      "execution_count": 9,
      "outputs": []
    },
    {
      "cell_type": "code",
      "source": [
        "df.show()"
      ],
      "metadata": {
        "colab": {
          "base_uri": "https://localhost:8080/"
        },
        "id": "ub2VkBMC8roV",
        "outputId": "5bdbab05-ac88-44eb-b53b-105244c44d5d"
      },
      "execution_count": 10,
      "outputs": [
        {
          "output_type": "stream",
          "name": "stdout",
          "text": [
            "+------------------+--------------------+--------------------+-------------------------------------------+-----------------------------------------------+-------------------------------------------+--------------------------------------------+-------------------------------------------+--------------------------------------------+-------------------------------------------+--------------------------------------------+------------------------------------------+-------------------------------------------+------------------------------------------+-------------------------------------------+-------------------------------------------+--------------------------------------------+--------------------------------------------+---------------------------------------------+----------------------------------------+------------------------------------------+-------------------------------------------+\n",
            "|         ProductID|      Buyer Feedback|              Images|data.productEvaluationStatistic.evarageStar|data.productEvaluationStatistic.evarageStarRage|data.productEvaluationStatistic.fiveStarNum|data.productEvaluationStatistic.fiveStarRate|data.productEvaluationStatistic.fourStarNum|data.productEvaluationStatistic.fourStarRate|data.productEvaluationStatistic.negativeNum|data.productEvaluationStatistic.negativeRate|data.productEvaluationStatistic.neutralNum|data.productEvaluationStatistic.neutralRate|data.productEvaluationStatistic.oneStarNum|data.productEvaluationStatistic.oneStarRate|data.productEvaluationStatistic.positiveNum|data.productEvaluationStatistic.positiveRate|data.productEvaluationStatistic.threeStarNum|data.productEvaluationStatistic.threeStarRate|data.productEvaluationStatistic.totalNum|data.productEvaluationStatistic.twoStarNum|data.productEvaluationStatistic.twoStarRate|\n",
            "+------------------+--------------------+--------------------+-------------------------------------------+-----------------------------------------------+-------------------------------------------+--------------------------------------------+-------------------------------------------+--------------------------------------------+-------------------------------------------+--------------------------------------------+------------------------------------------+-------------------------------------------+------------------------------------------+-------------------------------------------+-------------------------------------------+--------------------------------------------+--------------------------------------------+---------------------------------------------+----------------------------------------+------------------------------------------+-------------------------------------------+\n",
            "| 3256802423567155,|I wear a 8 in wom...|['https://ae01.al...|                                        4.2|                                           84.8|                                         98|                                        71.6|                                         11|                                         8.0|                                         21|                                         5.1|                                         7|                                        8.0|                                        16|                                       11.7|                                        109|                                        71.6|                                           7|                                          5.1|                                     137|                                         5|                                        3.6|\n",
            "| 3256803147612333,|We came to see th...|['https://ae01.al...|                                        4.8|                                           97.0|                                         49|                                        92.5|                                          2|                                         3.8|                                          1|                                         1.9|                                         1|                                        3.8|                                         1|                                        1.8|                                         51|                                        92.5|                                           1|                                          1.9|                                      53|                                         0|                                        0.0|\n",
            "| 3256803313822268,|                null|                null|                                        5.0|                                          100.0|                                          8|                                       100.0|                                          0|                                         0.0|                                          0|                                         0.0|                                         0|                                        0.0|                                         0|                                        0.0|                                          8|                                       100.0|                                           0|                                          0.0|                                       8|                                         0|                                        0.0|\n",
            "| 3256803613454020,|Thank you! Everyt...|                null|                                        5.0|                                          100.0|                                         25|                                       100.0|                                          0|                                         0.0|                                          0|                                         0.0|                                         0|                                        0.0|                                         0|                                        0.0|                                         25|                                       100.0|                                           0|                                          0.0|                                      25|                                         0|                                        0.0|\n",
            "| 3256804146039143,|These are good sl...|['https://ae01.al...|                                        4.9|                                           98.8|                                         31|                                        93.9|                                          2|                                         6.1|                                          0|                                         0.0|                                         0|                                        6.1|                                         0|                                        0.0|                                         33|                                        93.9|                                           0|                                          0.0|                                      33|                                         0|                                        0.0|\n",
            "| 3256804273010958,|Gentiiii this sho...|['https://ae01.al...|                                        5.0|                                          100.0|                                         16|                                       100.0|                                          0|                                         0.0|                                          0|                                         0.0|                                         0|                                        0.0|                                         0|                                        0.0|                                         16|                                       100.0|                                           0|                                          0.0|                                      16|                                         0|                                        0.0|\n",
            "| 3256804288091339,|                null|                null|                                        0.0|                                            0.0|                                          0|                                         0.0|                                          0|                                         0.0|                                          0|                                         0.0|                                         0|                                        0.0|                                         0|                                        0.0|                                          0|                                         0.0|                                           0|                                          0.0|                                       0|                                         0|                                        0.0|\n",
            "| 3256804340338295,|                null|                null|                                        4.8|                                           96.8|                                         28|                                        90.3|                                          2|                                         6.5|                                          1|                                         0.0|                                         0|                                        6.5|                                         0|                                        0.0|                                         30|                                        90.3|                                           0|                                          0.0|                                      31|                                         1|                                        3.2|\n",
            "| 3256804374631137,|                null|                null|                                        5.0|                                          100.0|                                         10|                                       100.0|                                          0|                                         0.0|                                          0|                                         0.0|                                         0|                                        0.0|                                         0|                                        0.0|                                         10|                                       100.0|                                           0|                                          0.0|                                      10|                                         0|                                        0.0|\n",
            "| 3256804549567127,|                null|                null|                                        4.5|                                           90.8|                                        234|                                        81.3|                                         15|                                         5.2|                                         24|                                         5.2|                                        15|                                        5.2|                                        16|                                        5.5|                                        249|                                        81.3|                                          15|                                          5.2|                                     288|                                         8|                                        2.8|\n",
            "| 3256804564507961,|                null|                null|                                        4.3|                                           86.7|                                          5|                                        83.3|                                          0|                                         0.0|                                          1|                                         0.0|                                         0|                                        0.0|                                         1|                                       16.7|                                          5|                                        83.3|                                           0|                                          0.0|                                       6|                                         0|                                        0.0|\n",
            "| 3256804598834886,|                null|                null|                                        0.0|                                            0.0|                                          0|                                         0.0|                                          0|                                         0.0|                                          0|                                         0.0|                                         0|                                        0.0|                                         0|                                        0.0|                                          0|                                         0.0|                                           0|                                          0.0|                                       0|                                         0|                                        0.0|\n",
            "| 3256804600087452,|                null|                null|                                        0.0|                                            0.0|                                          0|                                         0.0|                                          0|                                         0.0|                                          0|                                         0.0|                                         0|                                        0.0|                                         0|                                        0.0|                                          0|                                         0.0|                                           0|                                          0.0|                                       0|                                         0|                                        0.0|\n",
            "| 3256804603507576,|                null|                null|                                        5.0|                                          100.0|                                          9|                                       100.0|                                          0|                                         0.0|                                          0|                                         0.0|                                         0|                                        0.0|                                         0|                                        0.0|                                          9|                                       100.0|                                           0|                                          0.0|                                       9|                                         0|                                        0.0|\n",
            "| 3256804606583693,|                null|                null|                                        5.0|                                          100.0|                                          4|                                       100.0|                                          0|                                         0.0|                                          0|                                         0.0|                                         0|                                        0.0|                                         0|                                        0.0|                                          4|                                       100.0|                                           0|                                          0.0|                                       4|                                         0|                                        0.0|\n",
            "| 3256804627451745,|                null|                null|                                        5.0|                                          100.0|                                          1|                                       100.0|                                          0|                                         0.0|                                          0|                                         0.0|                                         0|                                        0.0|                                         0|                                        0.0|                                          1|                                       100.0|                                           0|                                          0.0|                                       1|                                         0|                                        0.0|\n",
            "| 3256804679939115,|                null|                null|                                        4.5|                                           90.0|                                          1|                                        50.0|                                          1|                                        50.0|                                          0|                                         0.0|                                         0|                                       50.0|                                         0|                                        0.0|                                          2|                                        50.0|                                           0|                                          0.0|                                       2|                                         0|                                        0.0|\n",
            "| 3256804683170661,|                null|                null|                                        5.0|                                          100.0|                                          2|                                       100.0|                                          0|                                         0.0|                                          0|                                         0.0|                                         0|                                        0.0|                                         0|                                        0.0|                                          2|                                       100.0|                                           0|                                          0.0|                                       2|                                         0|                                        0.0|\n",
            "| 3256804697787771,|                null|                null|                                        0.0|                                            0.0|                                          0|                                         0.0|                                          0|                                         0.0|                                          0|                                         0.0|                                         0|                                        0.0|                                         0|                                        0.0|                                          0|                                         0.0|                                           0|                                          0.0|                                       0|                                         0|                                        0.0|\n",
            "| 3256804718617801,|                null|                null|                                        0.0|                                            0.0|                                          0|                                         0.0|                                          0|                                         0.0|                                          0|                                         0.0|                                         0|                                        0.0|                                         0|                                        0.0|                                          0|                                         0.0|                                           0|                                          0.0|                                       0|                                         0|                                        0.0|\n",
            "+------------------+--------------------+--------------------+-------------------------------------------+-----------------------------------------------+-------------------------------------------+--------------------------------------------+-------------------------------------------+--------------------------------------------+-------------------------------------------+--------------------------------------------+------------------------------------------+-------------------------------------------+------------------------------------------+-------------------------------------------+-------------------------------------------+--------------------------------------------+--------------------------------------------+---------------------------------------------+----------------------------------------+------------------------------------------+-------------------------------------------+\n",
            "\n"
          ]
        }
      ]
    },
    {
      "cell_type": "markdown",
      "source": [
        "# New Section"
      ],
      "metadata": {
        "id": "1Ne6DwbbElEo"
      }
    },
    {
      "cell_type": "code",
      "source": [
        "# Import functions\n",
        "from pyspark.ml.feature import Tokenizer, StopWordsRemover, HashingTF, IDF, StringIndexer"
      ],
      "metadata": {
        "id": "5sA9dsXw47bM"
      },
      "execution_count": 11,
      "outputs": []
    },
    {
      "cell_type": "code",
      "source": [
        "from pyspark.sql.functions import length\n",
        "# Create a length column to be used as a future feature\n",
        "data_df = df.withColumn('length', length(df['Buyer Feedback']))\n",
        "data_df.show()"
      ],
      "metadata": {
        "id": "Z019sRQi48ec",
        "colab": {
          "base_uri": "https://localhost:8080/"
        },
        "outputId": "c8a6465a-352e-48e0-cbb2-d193cbbce641"
      },
      "execution_count": 13,
      "outputs": [
        {
          "output_type": "stream",
          "name": "stdout",
          "text": [
            "+------------------+--------------------+--------------------+-------------------------------------------+-----------------------------------------------+-------------------------------------------+--------------------------------------------+-------------------------------------------+--------------------------------------------+-------------------------------------------+--------------------------------------------+------------------------------------------+-------------------------------------------+------------------------------------------+-------------------------------------------+-------------------------------------------+--------------------------------------------+--------------------------------------------+---------------------------------------------+----------------------------------------+------------------------------------------+-------------------------------------------+------+\n",
            "|         ProductID|      Buyer Feedback|              Images|data.productEvaluationStatistic.evarageStar|data.productEvaluationStatistic.evarageStarRage|data.productEvaluationStatistic.fiveStarNum|data.productEvaluationStatistic.fiveStarRate|data.productEvaluationStatistic.fourStarNum|data.productEvaluationStatistic.fourStarRate|data.productEvaluationStatistic.negativeNum|data.productEvaluationStatistic.negativeRate|data.productEvaluationStatistic.neutralNum|data.productEvaluationStatistic.neutralRate|data.productEvaluationStatistic.oneStarNum|data.productEvaluationStatistic.oneStarRate|data.productEvaluationStatistic.positiveNum|data.productEvaluationStatistic.positiveRate|data.productEvaluationStatistic.threeStarNum|data.productEvaluationStatistic.threeStarRate|data.productEvaluationStatistic.totalNum|data.productEvaluationStatistic.twoStarNum|data.productEvaluationStatistic.twoStarRate|length|\n",
            "+------------------+--------------------+--------------------+-------------------------------------------+-----------------------------------------------+-------------------------------------------+--------------------------------------------+-------------------------------------------+--------------------------------------------+-------------------------------------------+--------------------------------------------+------------------------------------------+-------------------------------------------+------------------------------------------+-------------------------------------------+-------------------------------------------+--------------------------------------------+--------------------------------------------+---------------------------------------------+----------------------------------------+------------------------------------------+-------------------------------------------+------+\n",
            "| 3256802423567155,|I wear a 8 in wom...|['https://ae01.al...|                                        4.2|                                           84.8|                                         98|                                        71.6|                                         11|                                         8.0|                                         21|                                         5.1|                                         7|                                        8.0|                                        16|                                       11.7|                                        109|                                        71.6|                                           7|                                          5.1|                                     137|                                         5|                                        3.6|   179|\n",
            "| 3256803147612333,|We came to see th...|['https://ae01.al...|                                        4.8|                                           97.0|                                         49|                                        92.5|                                          2|                                         3.8|                                          1|                                         1.9|                                         1|                                        3.8|                                         1|                                        1.8|                                         51|                                        92.5|                                           1|                                          1.9|                                      53|                                         0|                                        0.0|   250|\n",
            "| 3256803313822268,|                null|                null|                                        5.0|                                          100.0|                                          8|                                       100.0|                                          0|                                         0.0|                                          0|                                         0.0|                                         0|                                        0.0|                                         0|                                        0.0|                                          8|                                       100.0|                                           0|                                          0.0|                                       8|                                         0|                                        0.0|  null|\n",
            "| 3256803613454020,|Thank you! Everyt...|                null|                                        5.0|                                          100.0|                                         25|                                       100.0|                                          0|                                         0.0|                                          0|                                         0.0|                                         0|                                        0.0|                                         0|                                        0.0|                                         25|                                       100.0|                                           0|                                          0.0|                                      25|                                         0|                                        0.0|    41|\n",
            "| 3256804146039143,|These are good sl...|['https://ae01.al...|                                        4.9|                                           98.8|                                         31|                                        93.9|                                          2|                                         6.1|                                          0|                                         0.0|                                         0|                                        6.1|                                         0|                                        0.0|                                         33|                                        93.9|                                           0|                                          0.0|                                      33|                                         0|                                        0.0|   164|\n",
            "| 3256804273010958,|Gentiiii this sho...|['https://ae01.al...|                                        5.0|                                          100.0|                                         16|                                       100.0|                                          0|                                         0.0|                                          0|                                         0.0|                                         0|                                        0.0|                                         0|                                        0.0|                                         16|                                       100.0|                                           0|                                          0.0|                                      16|                                         0|                                        0.0|   141|\n",
            "| 3256804288091339,|                null|                null|                                        0.0|                                            0.0|                                          0|                                         0.0|                                          0|                                         0.0|                                          0|                                         0.0|                                         0|                                        0.0|                                         0|                                        0.0|                                          0|                                         0.0|                                           0|                                          0.0|                                       0|                                         0|                                        0.0|  null|\n",
            "| 3256804340338295,|                null|                null|                                        4.8|                                           96.8|                                         28|                                        90.3|                                          2|                                         6.5|                                          1|                                         0.0|                                         0|                                        6.5|                                         0|                                        0.0|                                         30|                                        90.3|                                           0|                                          0.0|                                      31|                                         1|                                        3.2|  null|\n",
            "| 3256804374631137,|                null|                null|                                        5.0|                                          100.0|                                         10|                                       100.0|                                          0|                                         0.0|                                          0|                                         0.0|                                         0|                                        0.0|                                         0|                                        0.0|                                         10|                                       100.0|                                           0|                                          0.0|                                      10|                                         0|                                        0.0|  null|\n",
            "| 3256804549567127,|                null|                null|                                        4.5|                                           90.8|                                        234|                                        81.3|                                         15|                                         5.2|                                         24|                                         5.2|                                        15|                                        5.2|                                        16|                                        5.5|                                        249|                                        81.3|                                          15|                                          5.2|                                     288|                                         8|                                        2.8|  null|\n",
            "| 3256804564507961,|                null|                null|                                        4.3|                                           86.7|                                          5|                                        83.3|                                          0|                                         0.0|                                          1|                                         0.0|                                         0|                                        0.0|                                         1|                                       16.7|                                          5|                                        83.3|                                           0|                                          0.0|                                       6|                                         0|                                        0.0|  null|\n",
            "| 3256804598834886,|                null|                null|                                        0.0|                                            0.0|                                          0|                                         0.0|                                          0|                                         0.0|                                          0|                                         0.0|                                         0|                                        0.0|                                         0|                                        0.0|                                          0|                                         0.0|                                           0|                                          0.0|                                       0|                                         0|                                        0.0|  null|\n",
            "| 3256804600087452,|                null|                null|                                        0.0|                                            0.0|                                          0|                                         0.0|                                          0|                                         0.0|                                          0|                                         0.0|                                         0|                                        0.0|                                         0|                                        0.0|                                          0|                                         0.0|                                           0|                                          0.0|                                       0|                                         0|                                        0.0|  null|\n",
            "| 3256804603507576,|                null|                null|                                        5.0|                                          100.0|                                          9|                                       100.0|                                          0|                                         0.0|                                          0|                                         0.0|                                         0|                                        0.0|                                         0|                                        0.0|                                          9|                                       100.0|                                           0|                                          0.0|                                       9|                                         0|                                        0.0|  null|\n",
            "| 3256804606583693,|                null|                null|                                        5.0|                                          100.0|                                          4|                                       100.0|                                          0|                                         0.0|                                          0|                                         0.0|                                         0|                                        0.0|                                         0|                                        0.0|                                          4|                                       100.0|                                           0|                                          0.0|                                       4|                                         0|                                        0.0|  null|\n",
            "| 3256804627451745,|                null|                null|                                        5.0|                                          100.0|                                          1|                                       100.0|                                          0|                                         0.0|                                          0|                                         0.0|                                         0|                                        0.0|                                         0|                                        0.0|                                          1|                                       100.0|                                           0|                                          0.0|                                       1|                                         0|                                        0.0|  null|\n",
            "| 3256804679939115,|                null|                null|                                        4.5|                                           90.0|                                          1|                                        50.0|                                          1|                                        50.0|                                          0|                                         0.0|                                         0|                                       50.0|                                         0|                                        0.0|                                          2|                                        50.0|                                           0|                                          0.0|                                       2|                                         0|                                        0.0|  null|\n",
            "| 3256804683170661,|                null|                null|                                        5.0|                                          100.0|                                          2|                                       100.0|                                          0|                                         0.0|                                          0|                                         0.0|                                         0|                                        0.0|                                         0|                                        0.0|                                          2|                                       100.0|                                           0|                                          0.0|                                       2|                                         0|                                        0.0|  null|\n",
            "| 3256804697787771,|                null|                null|                                        0.0|                                            0.0|                                          0|                                         0.0|                                          0|                                         0.0|                                          0|                                         0.0|                                         0|                                        0.0|                                         0|                                        0.0|                                          0|                                         0.0|                                           0|                                          0.0|                                       0|                                         0|                                        0.0|  null|\n",
            "| 3256804718617801,|                null|                null|                                        0.0|                                            0.0|                                          0|                                         0.0|                                          0|                                         0.0|                                          0|                                         0.0|                                         0|                                        0.0|                                         0|                                        0.0|                                          0|                                         0.0|                                           0|                                          0.0|                                       0|                                         0|                                        0.0|  null|\n",
            "+------------------+--------------------+--------------------+-------------------------------------------+-----------------------------------------------+-------------------------------------------+--------------------------------------------+-------------------------------------------+--------------------------------------------+-------------------------------------------+--------------------------------------------+------------------------------------------+-------------------------------------------+------------------------------------------+-------------------------------------------+-------------------------------------------+--------------------------------------------+--------------------------------------------+---------------------------------------------+----------------------------------------+------------------------------------------+-------------------------------------------+------+\n",
            "\n"
          ]
        }
      ]
    },
    {
      "cell_type": "code",
      "source": [
        "# Create all the features to the data set\n",
        "pos_neg_to_num = StringIndexer(inputCol='class',outputCol='label')\n",
        "tokenizer = Tokenizer(inputCol=\"text\", outputCol=\"token_text\")\n",
        "stopremove = StopWordsRemover(inputCol='token_text',outputCol='stop_tokens')\n",
        "hashingTF = HashingTF(inputCol=\"stop_tokens\", outputCol='hash_token')\n",
        "idf = IDF(inputCol='hash_token', outputCol='idf_token')"
      ],
      "metadata": {
        "id": "iW1hKUoS4_oA"
      },
      "execution_count": 14,
      "outputs": []
    },
    {
      "cell_type": "code",
      "source": [
        "from pyspark.ml.feature import VectorAssembler\n",
        "from pyspark.ml.linalg import Vector\n",
        "# Create feature vectors\n",
        "clean_up = VectorAssembler(inputCols=['idf_token', 'length'], outputCol='features')"
      ],
      "metadata": {
        "id": "Cu1wHSNh5BZZ"
      },
      "execution_count": 15,
      "outputs": []
    },
    {
      "cell_type": "code",
      "source": [
        "# Create and run a data processing Pipeline\n",
        "from pyspark.ml import Pipeline\n",
        "data_prep_pipeline = Pipeline(stages=[pos_neg_to_num, tokenizer, stopremove, hashingTF, idf, clean_up])"
      ],
      "metadata": {
        "id": "PrX05DqS5Dr4"
      },
      "execution_count": 16,
      "outputs": []
    },
    {
      "cell_type": "markdown",
      "source": [
        "Machine Learning Model"
      ],
      "metadata": {
        "id": "XF13KlAF5GtY"
      }
    },
    {
      "cell_type": "code",
      "source": [
        "# Fit and transform the pipeline\n",
        "cleaner = data_prep_pipeline.fit(data_df)\n",
        "cleaned = cleaner.transform(data_df)"
      ],
      "metadata": {
        "id": "qdVDxuMv5GC2"
      },
      "execution_count": null,
      "outputs": []
    },
    {
      "cell_type": "code",
      "source": [
        "# Break data down into a training set and a testing set\n",
        "training, testing = cleaned.randomSplit([0.7, 0.3], 21)"
      ],
      "metadata": {
        "id": "z0HsPX425PgK"
      },
      "execution_count": null,
      "outputs": []
    },
    {
      "cell_type": "code",
      "source": [
        "from pyspark.ml.classification import NaiveBayes\n",
        "# Create a Naive Bayes model and fit training data\n",
        "nb = NaiveBayes()\n",
        "predictor = nb.fit(training)"
      ],
      "metadata": {
        "id": "5gwQYpFn5Slq"
      },
      "execution_count": null,
      "outputs": []
    },
    {
      "cell_type": "code",
      "source": [
        "from pyspark.ml.evaluation import BinaryClassificationEvaluator\n",
        "\n",
        "acc_eval = BinaryClassificationEvaluator(labelCol='label', rawPredictionCol='prediction'\n",
        "acc = acc_eval.evaluate(test_results)\n",
        "print(\"Accuracy of model at predicting reviews was: %f\" % acc)"
      ],
      "metadata": {
        "id": "6g7QvQHs5YCt"
      },
      "execution_count": null,
      "outputs": []
    }
  ]
}